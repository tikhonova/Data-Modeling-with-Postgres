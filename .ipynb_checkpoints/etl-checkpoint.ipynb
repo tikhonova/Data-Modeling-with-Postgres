{
 "cells": [
  {
   "cell_type": "markdown",
   "metadata": {},
   "source": [
    "# ETL Processes\n",
    "Use this notebook to develop the ETL process for each of your tables before completing the `etl.py` file to load the whole datasets."
   ]
  },
  {
   "cell_type": "code",
   "execution_count": 1,
   "metadata": {},
   "outputs": [],
   "source": [
    "import os\n",
    "import glob\n",
    "import psycopg2\n",
    "import pandas as pd\n",
    "from sql_queries import *"
   ]
  },
  {
   "cell_type": "code",
   "execution_count": 2,
   "metadata": {},
   "outputs": [],
   "source": [
    "conn = psycopg2.connect(\"host=127.0.0.1 dbname=sparkifydb user=student password=student\")\n",
    "cur = conn.cursor()\n",
    "conn.set_session(autocommit=True)"
   ]
  },
  {
   "cell_type": "code",
   "execution_count": 3,
   "metadata": {},
   "outputs": [],
   "source": [
    "def get_files(filepath):\n",
    "    all_files = []\n",
    "    for root, dirs, files in os.walk(filepath):\n",
    "        files = glob.glob(os.path.join(root,'*.json'))\n",
    "        for f in files :\n",
    "            all_files.append(os.path.abspath(f))\n",
    "    \n",
    "    return all_files"
   ]
  },
  {
   "cell_type": "markdown",
   "metadata": {},
   "source": [
    "# Process `song_data`\n",
    "In this first part, you'll perform ETL on the first dataset, `song_data`, to create the `songs` and `artists` dimensional tables.\n",
    "\n",
    "Let's perform ETL on a single song file and load a single record into each table to start.\n",
    "- Use the `get_files` function provided above to get a list of all song JSON files in `data/song_data`\n",
    "- Select the first song in this list\n",
    "- Read the song file and view the data"
   ]
  },
  {
   "cell_type": "code",
   "execution_count": 4,
   "metadata": {},
   "outputs": [],
   "source": [
    "song_files = get_files('/Users/tatianatikhonova/tati/Udacity Data Engineering - Project1/data/song_data')"
   ]
  },
  {
   "cell_type": "code",
   "execution_count": 5,
   "metadata": {},
   "outputs": [
    {
     "data": {
      "text/plain": [
       "list"
      ]
     },
     "execution_count": 5,
     "metadata": {},
     "output_type": "execute_result"
    }
   ],
   "source": [
    "type(song_files)"
   ]
  },
  {
   "cell_type": "code",
   "execution_count": 6,
   "metadata": {
    "scrolled": true
   },
   "outputs": [
    {
     "data": {
      "text/plain": [
       "'/Users/tatianatikhonova/tati/Udacity Data Engineering - Project1/data/song_data/A/A/A/TRAAAEF128F4273421.json'"
      ]
     },
     "execution_count": 6,
     "metadata": {},
     "output_type": "execute_result"
    }
   ],
   "source": [
    "song_files[0]"
   ]
  },
  {
   "cell_type": "code",
   "execution_count": 7,
   "metadata": {},
   "outputs": [
    {
     "data": {
      "text/plain": [
       "'/Users/tatianatikhonova/tati/Udacity Data Engineering - Project1/data/song_data/A/A/A/TRAAARJ128F9320760.json'"
      ]
     },
     "execution_count": 7,
     "metadata": {},
     "output_type": "execute_result"
    }
   ],
   "source": [
    "song_files[1]"
   ]
  },
  {
   "cell_type": "code",
   "execution_count": 8,
   "metadata": {},
   "outputs": [],
   "source": [
    "import json\n",
    "for i in song_files:\n",
    "    with open(i, 'r') as file:\n",
    "        json_data = json.load(file)\n",
    "        #data.append(json_data)"
   ]
  },
  {
   "cell_type": "code",
   "execution_count": 9,
   "metadata": {},
   "outputs": [
    {
     "data": {
      "text/plain": [
       "dict"
      ]
     },
     "execution_count": 9,
     "metadata": {},
     "output_type": "execute_result"
    }
   ],
   "source": [
    "type(json_data)"
   ]
  },
  {
   "cell_type": "code",
   "execution_count": 10,
   "metadata": {
    "scrolled": true
   },
   "outputs": [
    {
     "data": {
      "text/plain": [
       "{'num_songs': 1,\n",
       " 'artist_id': 'ARGCY1Y1187B9A4FA5',\n",
       " 'artist_latitude': 36.16778,\n",
       " 'artist_longitude': -86.77836,\n",
       " 'artist_location': 'Nashville, TN.',\n",
       " 'artist_name': 'Gloriana',\n",
       " 'song_id': 'SOQOTLQ12AB01868D0',\n",
       " 'title': 'Clementina Santafè',\n",
       " 'duration': 153.33832,\n",
       " 'year': 0}"
      ]
     },
     "execution_count": 10,
     "metadata": {},
     "output_type": "execute_result"
    }
   ],
   "source": [
    "json_data"
   ]
  },
  {
   "cell_type": "markdown",
   "metadata": {},
   "source": [
    "## #1: `songs` Table\n",
    "#### Extract Data for Songs Table\n",
    "- Select columns for song ID, title, artist ID, year, and duration\n",
    "- Use `df.values` to select just the values from the dataframe\n",
    "- Index to select the first (only) record in the dataframe\n",
    "- Convert the array to a list and set it to `song_data`"
   ]
  },
  {
   "cell_type": "code",
   "execution_count": 11,
   "metadata": {},
   "outputs": [
    {
     "data": {
      "text/plain": [
       "'/Users/tatianatikhonova/tati/Udacity Data Engineering - Project1/data/song_data/A/A/A/TRAAAEF128F4273421.json'"
      ]
     },
     "execution_count": 11,
     "metadata": {},
     "output_type": "execute_result"
    }
   ],
   "source": [
    "song_files = get_files('/Users/tatianatikhonova/tati/Udacity Data Engineering - Project1/data/song_data')\n",
    "song_files[0]"
   ]
  },
  {
   "cell_type": "code",
   "execution_count": 12,
   "metadata": {
    "scrolled": true
   },
   "outputs": [
    {
     "data": {
      "text/html": [
       "<div>\n",
       "<style scoped>\n",
       "    .dataframe tbody tr th:only-of-type {\n",
       "        vertical-align: middle;\n",
       "    }\n",
       "\n",
       "    .dataframe tbody tr th {\n",
       "        vertical-align: top;\n",
       "    }\n",
       "\n",
       "    .dataframe thead th {\n",
       "        text-align: right;\n",
       "    }\n",
       "</style>\n",
       "<table border=\"1\" class=\"dataframe\">\n",
       "  <thead>\n",
       "    <tr style=\"text-align: right;\">\n",
       "      <th></th>\n",
       "      <th>num_songs</th>\n",
       "      <th>artist_id</th>\n",
       "      <th>artist_latitude</th>\n",
       "      <th>artist_longitude</th>\n",
       "      <th>artist_location</th>\n",
       "      <th>artist_name</th>\n",
       "      <th>song_id</th>\n",
       "      <th>title</th>\n",
       "      <th>duration</th>\n",
       "      <th>year</th>\n",
       "    </tr>\n",
       "  </thead>\n",
       "  <tbody>\n",
       "    <tr>\n",
       "      <th>0</th>\n",
       "      <td>1</td>\n",
       "      <td>AR7G5I41187FB4CE6C</td>\n",
       "      <td>NaN</td>\n",
       "      <td>NaN</td>\n",
       "      <td>London, England</td>\n",
       "      <td>Adam Ant</td>\n",
       "      <td>SONHOTT12A8C13493C</td>\n",
       "      <td>Something Girls</td>\n",
       "      <td>233.40363</td>\n",
       "      <td>1982</td>\n",
       "    </tr>\n",
       "    <tr>\n",
       "      <th>1</th>\n",
       "      <td>1</td>\n",
       "      <td>AR8ZCNI1187B9A069B</td>\n",
       "      <td>NaN</td>\n",
       "      <td>NaN</td>\n",
       "      <td></td>\n",
       "      <td>Planet P Project</td>\n",
       "      <td>SOIAZJW12AB01853F1</td>\n",
       "      <td>Pink World</td>\n",
       "      <td>269.81832</td>\n",
       "      <td>1984</td>\n",
       "    </tr>\n",
       "    <tr>\n",
       "      <th>2</th>\n",
       "      <td>1</td>\n",
       "      <td>ARXR32B1187FB57099</td>\n",
       "      <td>NaN</td>\n",
       "      <td>NaN</td>\n",
       "      <td></td>\n",
       "      <td>Gob</td>\n",
       "      <td>SOFSOCN12A8C143F5D</td>\n",
       "      <td>Face the Ashes</td>\n",
       "      <td>209.60608</td>\n",
       "      <td>2007</td>\n",
       "    </tr>\n",
       "    <tr>\n",
       "      <th>3</th>\n",
       "      <td>1</td>\n",
       "      <td>AR10USD1187B99F3F1</td>\n",
       "      <td>NaN</td>\n",
       "      <td>NaN</td>\n",
       "      <td>Burlington, Ontario, Canada</td>\n",
       "      <td>Tweeterfriendly Music</td>\n",
       "      <td>SOHKNRJ12A6701D1F8</td>\n",
       "      <td>Drop of Rain</td>\n",
       "      <td>189.57016</td>\n",
       "      <td>0</td>\n",
       "    </tr>\n",
       "    <tr>\n",
       "      <th>4</th>\n",
       "      <td>1</td>\n",
       "      <td>ARGSJW91187B9B1D6B</td>\n",
       "      <td>35.21962</td>\n",
       "      <td>-80.01955</td>\n",
       "      <td>North Carolina</td>\n",
       "      <td>JennyAnyKind</td>\n",
       "      <td>SOQHXMF12AB0182363</td>\n",
       "      <td>Young Boy Blues</td>\n",
       "      <td>218.77506</td>\n",
       "      <td>0</td>\n",
       "    </tr>\n",
       "  </tbody>\n",
       "</table>\n",
       "</div>"
      ],
      "text/plain": [
       "   num_songs           artist_id  artist_latitude  artist_longitude  \\\n",
       "0          1  AR7G5I41187FB4CE6C              NaN               NaN   \n",
       "1          1  AR8ZCNI1187B9A069B              NaN               NaN   \n",
       "2          1  ARXR32B1187FB57099              NaN               NaN   \n",
       "3          1  AR10USD1187B99F3F1              NaN               NaN   \n",
       "4          1  ARGSJW91187B9B1D6B         35.21962         -80.01955   \n",
       "\n",
       "               artist_location            artist_name             song_id  \\\n",
       "0              London, England               Adam Ant  SONHOTT12A8C13493C   \n",
       "1                                    Planet P Project  SOIAZJW12AB01853F1   \n",
       "2                                                 Gob  SOFSOCN12A8C143F5D   \n",
       "3  Burlington, Ontario, Canada  Tweeterfriendly Music  SOHKNRJ12A6701D1F8   \n",
       "4               North Carolina           JennyAnyKind  SOQHXMF12AB0182363   \n",
       "\n",
       "             title   duration  year  \n",
       "0  Something Girls  233.40363  1982  \n",
       "1       Pink World  269.81832  1984  \n",
       "2   Face the Ashes  209.60608  2007  \n",
       "3     Drop of Rain  189.57016     0  \n",
       "4  Young Boy Blues  218.77506     0  "
      ]
     },
     "execution_count": 12,
     "metadata": {},
     "output_type": "execute_result"
    }
   ],
   "source": [
    "import json\n",
    "data = []\n",
    "for i in song_files:\n",
    "    with open(i, 'r') as file:\n",
    "        json_data = json.load(file)\n",
    "    data.append(json_data)\n",
    "        \n",
    "df = pd.DataFrame.from_records(data)\n",
    "df.head(5)"
   ]
  },
  {
   "cell_type": "code",
   "execution_count": 13,
   "metadata": {
    "scrolled": false
   },
   "outputs": [
    {
     "data": {
      "text/html": [
       "<div>\n",
       "<style scoped>\n",
       "    .dataframe tbody tr th:only-of-type {\n",
       "        vertical-align: middle;\n",
       "    }\n",
       "\n",
       "    .dataframe tbody tr th {\n",
       "        vertical-align: top;\n",
       "    }\n",
       "\n",
       "    .dataframe thead th {\n",
       "        text-align: right;\n",
       "    }\n",
       "</style>\n",
       "<table border=\"1\" class=\"dataframe\">\n",
       "  <thead>\n",
       "    <tr style=\"text-align: right;\">\n",
       "      <th></th>\n",
       "      <th>artist_id</th>\n",
       "      <th>song_id</th>\n",
       "      <th>title</th>\n",
       "      <th>duration</th>\n",
       "      <th>year</th>\n",
       "    </tr>\n",
       "  </thead>\n",
       "  <tbody>\n",
       "    <tr>\n",
       "      <th>0</th>\n",
       "      <td>AR7G5I41187FB4CE6C</td>\n",
       "      <td>SONHOTT12A8C13493C</td>\n",
       "      <td>Something Girls</td>\n",
       "      <td>233.40363</td>\n",
       "      <td>1982</td>\n",
       "    </tr>\n",
       "    <tr>\n",
       "      <th>1</th>\n",
       "      <td>AR8ZCNI1187B9A069B</td>\n",
       "      <td>SOIAZJW12AB01853F1</td>\n",
       "      <td>Pink World</td>\n",
       "      <td>269.81832</td>\n",
       "      <td>1984</td>\n",
       "    </tr>\n",
       "    <tr>\n",
       "      <th>2</th>\n",
       "      <td>ARXR32B1187FB57099</td>\n",
       "      <td>SOFSOCN12A8C143F5D</td>\n",
       "      <td>Face the Ashes</td>\n",
       "      <td>209.60608</td>\n",
       "      <td>2007</td>\n",
       "    </tr>\n",
       "    <tr>\n",
       "      <th>3</th>\n",
       "      <td>AR10USD1187B99F3F1</td>\n",
       "      <td>SOHKNRJ12A6701D1F8</td>\n",
       "      <td>Drop of Rain</td>\n",
       "      <td>189.57016</td>\n",
       "      <td>0</td>\n",
       "    </tr>\n",
       "    <tr>\n",
       "      <th>4</th>\n",
       "      <td>ARGSJW91187B9B1D6B</td>\n",
       "      <td>SOQHXMF12AB0182363</td>\n",
       "      <td>Young Boy Blues</td>\n",
       "      <td>218.77506</td>\n",
       "      <td>0</td>\n",
       "    </tr>\n",
       "  </tbody>\n",
       "</table>\n",
       "</div>"
      ],
      "text/plain": [
       "            artist_id             song_id            title   duration  year\n",
       "0  AR7G5I41187FB4CE6C  SONHOTT12A8C13493C  Something Girls  233.40363  1982\n",
       "1  AR8ZCNI1187B9A069B  SOIAZJW12AB01853F1       Pink World  269.81832  1984\n",
       "2  ARXR32B1187FB57099  SOFSOCN12A8C143F5D   Face the Ashes  209.60608  2007\n",
       "3  AR10USD1187B99F3F1  SOHKNRJ12A6701D1F8     Drop of Rain  189.57016     0\n",
       "4  ARGSJW91187B9B1D6B  SOQHXMF12AB0182363  Young Boy Blues  218.77506     0"
      ]
     },
     "execution_count": 13,
     "metadata": {},
     "output_type": "execute_result"
    }
   ],
   "source": [
    "df.drop(['num_songs','artist_latitude',\\\n",
    "        'artist_longitude','artist_location','artist_name'],\n",
    "        axis=1,inplace=True)\n",
    "df.head()"
   ]
  },
  {
   "cell_type": "code",
   "execution_count": 14,
   "metadata": {},
   "outputs": [
    {
     "data": {
      "text/html": [
       "<div>\n",
       "<style scoped>\n",
       "    .dataframe tbody tr th:only-of-type {\n",
       "        vertical-align: middle;\n",
       "    }\n",
       "\n",
       "    .dataframe tbody tr th {\n",
       "        vertical-align: top;\n",
       "    }\n",
       "\n",
       "    .dataframe thead th {\n",
       "        text-align: right;\n",
       "    }\n",
       "</style>\n",
       "<table border=\"1\" class=\"dataframe\">\n",
       "  <thead>\n",
       "    <tr style=\"text-align: right;\">\n",
       "      <th></th>\n",
       "      <th>song_id</th>\n",
       "      <th>title</th>\n",
       "      <th>artist_id</th>\n",
       "      <th>year</th>\n",
       "      <th>duration</th>\n",
       "    </tr>\n",
       "  </thead>\n",
       "  <tbody>\n",
       "    <tr>\n",
       "      <th>0</th>\n",
       "      <td>SONHOTT12A8C13493C</td>\n",
       "      <td>Something Girls</td>\n",
       "      <td>AR7G5I41187FB4CE6C</td>\n",
       "      <td>1982</td>\n",
       "      <td>233.40363</td>\n",
       "    </tr>\n",
       "    <tr>\n",
       "      <th>1</th>\n",
       "      <td>SOIAZJW12AB01853F1</td>\n",
       "      <td>Pink World</td>\n",
       "      <td>AR8ZCNI1187B9A069B</td>\n",
       "      <td>1984</td>\n",
       "      <td>269.81832</td>\n",
       "    </tr>\n",
       "    <tr>\n",
       "      <th>2</th>\n",
       "      <td>SOFSOCN12A8C143F5D</td>\n",
       "      <td>Face the Ashes</td>\n",
       "      <td>ARXR32B1187FB57099</td>\n",
       "      <td>2007</td>\n",
       "      <td>209.60608</td>\n",
       "    </tr>\n",
       "  </tbody>\n",
       "</table>\n",
       "</div>"
      ],
      "text/plain": [
       "              song_id            title           artist_id  year   duration\n",
       "0  SONHOTT12A8C13493C  Something Girls  AR7G5I41187FB4CE6C  1982  233.40363\n",
       "1  SOIAZJW12AB01853F1       Pink World  AR8ZCNI1187B9A069B  1984  269.81832\n",
       "2  SOFSOCN12A8C143F5D   Face the Ashes  ARXR32B1187FB57099  2007  209.60608"
      ]
     },
     "execution_count": 14,
     "metadata": {},
     "output_type": "execute_result"
    }
   ],
   "source": [
    "df = df[['song_id', 'title', 'artist_id', 'year', 'duration']]\n",
    "df.head(3)"
   ]
  },
  {
   "cell_type": "code",
   "execution_count": 15,
   "metadata": {},
   "outputs": [
    {
     "data": {
      "text/plain": [
       "array(['SONHOTT12A8C13493C', 'Something Girls', 'AR7G5I41187FB4CE6C',\n",
       "       1982, 233.40363], dtype=object)"
      ]
     },
     "execution_count": 15,
     "metadata": {},
     "output_type": "execute_result"
    }
   ],
   "source": [
    "df_values = df.values\n",
    "df_values[0]"
   ]
  },
  {
   "cell_type": "code",
   "execution_count": 16,
   "metadata": {},
   "outputs": [],
   "source": [
    "song_data = list(df_values[0])"
   ]
  },
  {
   "cell_type": "code",
   "execution_count": 17,
   "metadata": {
    "scrolled": true
   },
   "outputs": [
    {
     "data": {
      "text/plain": [
       "['SONHOTT12A8C13493C',\n",
       " 'Something Girls',\n",
       " 'AR7G5I41187FB4CE6C',\n",
       " 1982,\n",
       " 233.40363]"
      ]
     },
     "execution_count": 17,
     "metadata": {},
     "output_type": "execute_result"
    }
   ],
   "source": [
    "song_data"
   ]
  },
  {
   "cell_type": "markdown",
   "metadata": {},
   "source": [
    "#### Insert Record into Song Table\n",
    "Implement the `song_table_insert` query in `sql_queries.py` and run the cell below to insert a record for this song into the `songs` table. Remember to run `create_tables.py` before running the cell below to ensure you've created/resetted the `songs` table in the sparkify database."
   ]
  },
  {
   "cell_type": "code",
   "execution_count": 18,
   "metadata": {},
   "outputs": [],
   "source": [
    "cur.execute(song_table_insert, song_data)"
   ]
  },
  {
   "cell_type": "markdown",
   "metadata": {},
   "source": [
    "Run `test.ipynb` to see if you've successfully added a record to this table."
   ]
  },
  {
   "cell_type": "markdown",
   "metadata": {},
   "source": [
    "## #2: `artists` Table\n",
    "#### Extract Data for Artists Table\n",
    "- Select columns for artist ID, name, location, latitude, and longitude\n",
    "- Use `df.values` to select just the values from the dataframe\n",
    "- Index to select the first (only) record in the dataframe\n",
    "- Convert the array to a list and set it to `artist_data`"
   ]
  },
  {
   "cell_type": "code",
   "execution_count": 19,
   "metadata": {},
   "outputs": [
    {
     "data": {
      "text/html": [
       "<div>\n",
       "<style scoped>\n",
       "    .dataframe tbody tr th:only-of-type {\n",
       "        vertical-align: middle;\n",
       "    }\n",
       "\n",
       "    .dataframe tbody tr th {\n",
       "        vertical-align: top;\n",
       "    }\n",
       "\n",
       "    .dataframe thead th {\n",
       "        text-align: right;\n",
       "    }\n",
       "</style>\n",
       "<table border=\"1\" class=\"dataframe\">\n",
       "  <thead>\n",
       "    <tr style=\"text-align: right;\">\n",
       "      <th></th>\n",
       "      <th>num_songs</th>\n",
       "      <th>artist_id</th>\n",
       "      <th>artist_latitude</th>\n",
       "      <th>artist_longitude</th>\n",
       "      <th>artist_location</th>\n",
       "      <th>artist_name</th>\n",
       "      <th>song_id</th>\n",
       "      <th>title</th>\n",
       "      <th>duration</th>\n",
       "      <th>year</th>\n",
       "    </tr>\n",
       "  </thead>\n",
       "  <tbody>\n",
       "    <tr>\n",
       "      <th>0</th>\n",
       "      <td>1</td>\n",
       "      <td>AR7G5I41187FB4CE6C</td>\n",
       "      <td>NaN</td>\n",
       "      <td>NaN</td>\n",
       "      <td>London, England</td>\n",
       "      <td>Adam Ant</td>\n",
       "      <td>SONHOTT12A8C13493C</td>\n",
       "      <td>Something Girls</td>\n",
       "      <td>233.40363</td>\n",
       "      <td>1982</td>\n",
       "    </tr>\n",
       "    <tr>\n",
       "      <th>1</th>\n",
       "      <td>1</td>\n",
       "      <td>AR8ZCNI1187B9A069B</td>\n",
       "      <td>NaN</td>\n",
       "      <td>NaN</td>\n",
       "      <td></td>\n",
       "      <td>Planet P Project</td>\n",
       "      <td>SOIAZJW12AB01853F1</td>\n",
       "      <td>Pink World</td>\n",
       "      <td>269.81832</td>\n",
       "      <td>1984</td>\n",
       "    </tr>\n",
       "    <tr>\n",
       "      <th>2</th>\n",
       "      <td>1</td>\n",
       "      <td>ARXR32B1187FB57099</td>\n",
       "      <td>NaN</td>\n",
       "      <td>NaN</td>\n",
       "      <td></td>\n",
       "      <td>Gob</td>\n",
       "      <td>SOFSOCN12A8C143F5D</td>\n",
       "      <td>Face the Ashes</td>\n",
       "      <td>209.60608</td>\n",
       "      <td>2007</td>\n",
       "    </tr>\n",
       "    <tr>\n",
       "      <th>3</th>\n",
       "      <td>1</td>\n",
       "      <td>AR10USD1187B99F3F1</td>\n",
       "      <td>NaN</td>\n",
       "      <td>NaN</td>\n",
       "      <td>Burlington, Ontario, Canada</td>\n",
       "      <td>Tweeterfriendly Music</td>\n",
       "      <td>SOHKNRJ12A6701D1F8</td>\n",
       "      <td>Drop of Rain</td>\n",
       "      <td>189.57016</td>\n",
       "      <td>0</td>\n",
       "    </tr>\n",
       "    <tr>\n",
       "      <th>4</th>\n",
       "      <td>1</td>\n",
       "      <td>ARGSJW91187B9B1D6B</td>\n",
       "      <td>35.21962</td>\n",
       "      <td>-80.01955</td>\n",
       "      <td>North Carolina</td>\n",
       "      <td>JennyAnyKind</td>\n",
       "      <td>SOQHXMF12AB0182363</td>\n",
       "      <td>Young Boy Blues</td>\n",
       "      <td>218.77506</td>\n",
       "      <td>0</td>\n",
       "    </tr>\n",
       "  </tbody>\n",
       "</table>\n",
       "</div>"
      ],
      "text/plain": [
       "   num_songs           artist_id  artist_latitude  artist_longitude  \\\n",
       "0          1  AR7G5I41187FB4CE6C              NaN               NaN   \n",
       "1          1  AR8ZCNI1187B9A069B              NaN               NaN   \n",
       "2          1  ARXR32B1187FB57099              NaN               NaN   \n",
       "3          1  AR10USD1187B99F3F1              NaN               NaN   \n",
       "4          1  ARGSJW91187B9B1D6B         35.21962         -80.01955   \n",
       "\n",
       "               artist_location            artist_name             song_id  \\\n",
       "0              London, England               Adam Ant  SONHOTT12A8C13493C   \n",
       "1                                    Planet P Project  SOIAZJW12AB01853F1   \n",
       "2                                                 Gob  SOFSOCN12A8C143F5D   \n",
       "3  Burlington, Ontario, Canada  Tweeterfriendly Music  SOHKNRJ12A6701D1F8   \n",
       "4               North Carolina           JennyAnyKind  SOQHXMF12AB0182363   \n",
       "\n",
       "             title   duration  year  \n",
       "0  Something Girls  233.40363  1982  \n",
       "1       Pink World  269.81832  1984  \n",
       "2   Face the Ashes  209.60608  2007  \n",
       "3     Drop of Rain  189.57016     0  \n",
       "4  Young Boy Blues  218.77506     0  "
      ]
     },
     "execution_count": 19,
     "metadata": {},
     "output_type": "execute_result"
    }
   ],
   "source": [
    "import json\n",
    "data = []\n",
    "for i in song_files:\n",
    "    with open(i, 'r') as file:\n",
    "        json_data = json.load(file)\n",
    "    data.append(json_data)\n",
    "        \n",
    "df2 = pd.DataFrame.from_records(data)\n",
    "df2.head(5)"
   ]
  },
  {
   "cell_type": "code",
   "execution_count": 20,
   "metadata": {},
   "outputs": [
    {
     "data": {
      "text/html": [
       "<div>\n",
       "<style scoped>\n",
       "    .dataframe tbody tr th:only-of-type {\n",
       "        vertical-align: middle;\n",
       "    }\n",
       "\n",
       "    .dataframe tbody tr th {\n",
       "        vertical-align: top;\n",
       "    }\n",
       "\n",
       "    .dataframe thead th {\n",
       "        text-align: right;\n",
       "    }\n",
       "</style>\n",
       "<table border=\"1\" class=\"dataframe\">\n",
       "  <thead>\n",
       "    <tr style=\"text-align: right;\">\n",
       "      <th></th>\n",
       "      <th>artist_id</th>\n",
       "      <th>artist_name</th>\n",
       "      <th>artist_location</th>\n",
       "      <th>artist_latitude</th>\n",
       "      <th>artist_longitude</th>\n",
       "    </tr>\n",
       "  </thead>\n",
       "  <tbody>\n",
       "    <tr>\n",
       "      <th>0</th>\n",
       "      <td>AR7G5I41187FB4CE6C</td>\n",
       "      <td>Adam Ant</td>\n",
       "      <td>London, England</td>\n",
       "      <td>NaN</td>\n",
       "      <td>NaN</td>\n",
       "    </tr>\n",
       "    <tr>\n",
       "      <th>1</th>\n",
       "      <td>AR8ZCNI1187B9A069B</td>\n",
       "      <td>Planet P Project</td>\n",
       "      <td></td>\n",
       "      <td>NaN</td>\n",
       "      <td>NaN</td>\n",
       "    </tr>\n",
       "  </tbody>\n",
       "</table>\n",
       "</div>"
      ],
      "text/plain": [
       "            artist_id       artist_name  artist_location  artist_latitude  \\\n",
       "0  AR7G5I41187FB4CE6C          Adam Ant  London, England              NaN   \n",
       "1  AR8ZCNI1187B9A069B  Planet P Project                               NaN   \n",
       "\n",
       "   artist_longitude  \n",
       "0               NaN  \n",
       "1               NaN  "
      ]
     },
     "execution_count": 20,
     "metadata": {},
     "output_type": "execute_result"
    }
   ],
   "source": [
    "df2 = df2[['artist_id', 'artist_name', 'artist_location',\\\n",
    "           'artist_latitude', 'artist_longitude']]\n",
    "df2.head(2)"
   ]
  },
  {
   "cell_type": "code",
   "execution_count": 21,
   "metadata": {},
   "outputs": [
    {
     "data": {
      "text/plain": [
       "['AR7G5I41187FB4CE6C', 'Adam Ant', 'London, England', nan, nan]"
      ]
     },
     "execution_count": 21,
     "metadata": {},
     "output_type": "execute_result"
    }
   ],
   "source": [
    "df2_values = df2.values\n",
    "artist_data = list(df2_values[0])\n",
    "artist_data"
   ]
  },
  {
   "cell_type": "markdown",
   "metadata": {},
   "source": [
    "#### Insert Record into Artist Table\n",
    "Implement the `artist_table_insert` query in `sql_queries.py` and run the cell below to insert a record for this song's artist into the `artists` table. Remember to run `create_tables.py` before running the cell below to ensure you've created/resetted the `artists` table in the sparkify database."
   ]
  },
  {
   "cell_type": "code",
   "execution_count": 22,
   "metadata": {},
   "outputs": [],
   "source": [
    "cur.execute(artist_table_insert, artist_data)\n",
    "conn.commit()"
   ]
  },
  {
   "cell_type": "markdown",
   "metadata": {},
   "source": [
    "Run `test.ipynb` to see if you've successfully added a record to this table."
   ]
  },
  {
   "cell_type": "markdown",
   "metadata": {},
   "source": [
    "# Process `log_data`\n",
    "In this part, you'll perform ETL on the second dataset, `log_data`, to create the `time` and `users` dimensional tables, as well as the `songplays` fact table.\n",
    "\n",
    "Let's perform ETL on a single log file and load a single record into each table.\n",
    "- Use the `get_files` function provided above to get a list of all log JSON files in `data/log_data`\n",
    "- Select the first log file in this list\n",
    "- Read the log file and view the data"
   ]
  },
  {
   "cell_type": "code",
   "execution_count": 23,
   "metadata": {
    "scrolled": true
   },
   "outputs": [
    {
     "data": {
      "text/plain": [
       "'/Users/tatianatikhonova/tati/Udacity Data Engineering - Project1/data/log_data/2018/11/2018-11-11-events.json'"
      ]
     },
     "execution_count": 23,
     "metadata": {},
     "output_type": "execute_result"
    }
   ],
   "source": [
    "log_files = get_files('/Users/tatianatikhonova/tati/Udacity Data Engineering - Project1/data/log_data/')\n",
    "log_files[0]"
   ]
  },
  {
   "cell_type": "code",
   "execution_count": 24,
   "metadata": {
    "scrolled": false
   },
   "outputs": [
    {
     "data": {
      "text/html": [
       "<div>\n",
       "<style scoped>\n",
       "    .dataframe tbody tr th:only-of-type {\n",
       "        vertical-align: middle;\n",
       "    }\n",
       "\n",
       "    .dataframe tbody tr th {\n",
       "        vertical-align: top;\n",
       "    }\n",
       "\n",
       "    .dataframe thead th {\n",
       "        text-align: right;\n",
       "    }\n",
       "</style>\n",
       "<table border=\"1\" class=\"dataframe\">\n",
       "  <thead>\n",
       "    <tr style=\"text-align: right;\">\n",
       "      <th></th>\n",
       "      <th>artist</th>\n",
       "      <th>auth</th>\n",
       "      <th>firstName</th>\n",
       "      <th>gender</th>\n",
       "      <th>itemInSession</th>\n",
       "      <th>lastName</th>\n",
       "      <th>length</th>\n",
       "      <th>level</th>\n",
       "      <th>location</th>\n",
       "      <th>method</th>\n",
       "      <th>page</th>\n",
       "      <th>registration</th>\n",
       "      <th>sessionId</th>\n",
       "      <th>song</th>\n",
       "      <th>status</th>\n",
       "      <th>ts</th>\n",
       "      <th>userAgent</th>\n",
       "      <th>userId</th>\n",
       "    </tr>\n",
       "  </thead>\n",
       "  <tbody>\n",
       "    <tr>\n",
       "      <th>0</th>\n",
       "      <td>Frumpies</td>\n",
       "      <td>Logged In</td>\n",
       "      <td>Anabelle</td>\n",
       "      <td>F</td>\n",
       "      <td>0</td>\n",
       "      <td>Simpson</td>\n",
       "      <td>134.47791</td>\n",
       "      <td>free</td>\n",
       "      <td>Philadelphia-Camden-Wilmington, PA-NJ-DE-MD</td>\n",
       "      <td>PUT</td>\n",
       "      <td>NextSong</td>\n",
       "      <td>1.541044e+12</td>\n",
       "      <td>455</td>\n",
       "      <td>Fuck Kitty</td>\n",
       "      <td>200</td>\n",
       "      <td>1541903636796</td>\n",
       "      <td>\"Mozilla/5.0 (Macintosh; Intel Mac OS X 10_9_4...</td>\n",
       "      <td>69</td>\n",
       "    </tr>\n",
       "    <tr>\n",
       "      <th>1</th>\n",
       "      <td>Kenny G with Peabo Bryson</td>\n",
       "      <td>Logged In</td>\n",
       "      <td>Anabelle</td>\n",
       "      <td>F</td>\n",
       "      <td>1</td>\n",
       "      <td>Simpson</td>\n",
       "      <td>264.75057</td>\n",
       "      <td>free</td>\n",
       "      <td>Philadelphia-Camden-Wilmington, PA-NJ-DE-MD</td>\n",
       "      <td>PUT</td>\n",
       "      <td>NextSong</td>\n",
       "      <td>1.541044e+12</td>\n",
       "      <td>455</td>\n",
       "      <td>By The Time This Night Is Over</td>\n",
       "      <td>200</td>\n",
       "      <td>1541903770796</td>\n",
       "      <td>\"Mozilla/5.0 (Macintosh; Intel Mac OS X 10_9_4...</td>\n",
       "      <td>69</td>\n",
       "    </tr>\n",
       "  </tbody>\n",
       "</table>\n",
       "</div>"
      ],
      "text/plain": [
       "                      artist       auth firstName gender  itemInSession  \\\n",
       "0                   Frumpies  Logged In  Anabelle      F              0   \n",
       "1  Kenny G with Peabo Bryson  Logged In  Anabelle      F              1   \n",
       "\n",
       "  lastName     length level                                     location  \\\n",
       "0  Simpson  134.47791  free  Philadelphia-Camden-Wilmington, PA-NJ-DE-MD   \n",
       "1  Simpson  264.75057  free  Philadelphia-Camden-Wilmington, PA-NJ-DE-MD   \n",
       "\n",
       "  method      page  registration  sessionId                            song  \\\n",
       "0    PUT  NextSong  1.541044e+12        455                      Fuck Kitty   \n",
       "1    PUT  NextSong  1.541044e+12        455  By The Time This Night Is Over   \n",
       "\n",
       "   status             ts                                          userAgent  \\\n",
       "0     200  1541903636796  \"Mozilla/5.0 (Macintosh; Intel Mac OS X 10_9_4...   \n",
       "1     200  1541903770796  \"Mozilla/5.0 (Macintosh; Intel Mac OS X 10_9_4...   \n",
       "\n",
       "  userId  \n",
       "0     69  \n",
       "1     69  "
      ]
     },
     "execution_count": 24,
     "metadata": {},
     "output_type": "execute_result"
    }
   ],
   "source": [
    "more_data = []\n",
    "first_file = log_files[0]\n",
    "#for i in log_files:\n",
    "for line in open(first_file,'r'):\n",
    "     more_data.append(json.loads(line))\n",
    "        \n",
    "df3 = pd.DataFrame.from_records(more_data)\n",
    "df3.head(2)"
   ]
  },
  {
   "cell_type": "code",
   "execution_count": 25,
   "metadata": {},
   "outputs": [
    {
     "data": {
      "text/plain": [
       "{'artist': 'Frumpies',\n",
       " 'auth': 'Logged In',\n",
       " 'firstName': 'Anabelle',\n",
       " 'gender': 'F',\n",
       " 'itemInSession': 0,\n",
       " 'lastName': 'Simpson',\n",
       " 'length': 134.47791,\n",
       " 'level': 'free',\n",
       " 'location': 'Philadelphia-Camden-Wilmington, PA-NJ-DE-MD',\n",
       " 'method': 'PUT',\n",
       " 'page': 'NextSong',\n",
       " 'registration': 1541044398796.0,\n",
       " 'sessionId': 455,\n",
       " 'song': 'Fuck Kitty',\n",
       " 'status': 200,\n",
       " 'ts': 1541903636796,\n",
       " 'userAgent': '\"Mozilla/5.0 (Macintosh; Intel Mac OS X 10_9_4) AppleWebKit/537.36 (KHTML, like Gecko) Chrome/36.0.1985.125 Safari/537.36\"',\n",
       " 'userId': '69'}"
      ]
     },
     "execution_count": 25,
     "metadata": {},
     "output_type": "execute_result"
    }
   ],
   "source": [
    "more_data[0]"
   ]
  },
  {
   "cell_type": "markdown",
   "metadata": {},
   "source": [
    "## #3: `time` Table\n",
    "#### Extract Data for Time Table\n",
    "- Filter records by `NextSong` action\n",
    "- Convert the `ts` timestamp column to datetime\n",
    "  - Hint: the current timestamp is in milliseconds\n",
    "- Extract the timestamp, hour, day, week of year, month, year, and weekday from the `ts` column and set `time_data` to a list containing these values in order\n",
    "  - Hint: use pandas' [`dt` attribute](https://pandas.pydata.org/pandas-docs/stable/reference/api/pandas.Series.dt.html) to access easily datetimelike properties.\n",
    "- Specify labels for these columns and set to `column_labels`\n",
    "- Create a dataframe, `time_df,` containing the time data for this file by combining `column_labels` and `time_data` into a dictionary and converting this into a dataframe"
   ]
  },
  {
   "cell_type": "code",
   "execution_count": 26,
   "metadata": {},
   "outputs": [
    {
     "data": {
      "text/html": [
       "<div>\n",
       "<style scoped>\n",
       "    .dataframe tbody tr th:only-of-type {\n",
       "        vertical-align: middle;\n",
       "    }\n",
       "\n",
       "    .dataframe tbody tr th {\n",
       "        vertical-align: top;\n",
       "    }\n",
       "\n",
       "    .dataframe thead th {\n",
       "        text-align: right;\n",
       "    }\n",
       "</style>\n",
       "<table border=\"1\" class=\"dataframe\">\n",
       "  <thead>\n",
       "    <tr style=\"text-align: right;\">\n",
       "      <th></th>\n",
       "      <th>artist</th>\n",
       "      <th>auth</th>\n",
       "      <th>firstName</th>\n",
       "      <th>gender</th>\n",
       "      <th>itemInSession</th>\n",
       "      <th>lastName</th>\n",
       "      <th>length</th>\n",
       "      <th>level</th>\n",
       "      <th>location</th>\n",
       "      <th>method</th>\n",
       "      <th>page</th>\n",
       "      <th>registration</th>\n",
       "      <th>sessionId</th>\n",
       "      <th>song</th>\n",
       "      <th>status</th>\n",
       "      <th>ts</th>\n",
       "      <th>userAgent</th>\n",
       "      <th>userId</th>\n",
       "    </tr>\n",
       "  </thead>\n",
       "  <tbody>\n",
       "    <tr>\n",
       "      <th>0</th>\n",
       "      <td>Frumpies</td>\n",
       "      <td>Logged In</td>\n",
       "      <td>Anabelle</td>\n",
       "      <td>F</td>\n",
       "      <td>0</td>\n",
       "      <td>Simpson</td>\n",
       "      <td>134.47791</td>\n",
       "      <td>free</td>\n",
       "      <td>Philadelphia-Camden-Wilmington, PA-NJ-DE-MD</td>\n",
       "      <td>PUT</td>\n",
       "      <td>NextSong</td>\n",
       "      <td>1.541044e+12</td>\n",
       "      <td>455</td>\n",
       "      <td>Fuck Kitty</td>\n",
       "      <td>200</td>\n",
       "      <td>1541903636796</td>\n",
       "      <td>\"Mozilla/5.0 (Macintosh; Intel Mac OS X 10_9_4...</td>\n",
       "      <td>69</td>\n",
       "    </tr>\n",
       "    <tr>\n",
       "      <th>1</th>\n",
       "      <td>Kenny G with Peabo Bryson</td>\n",
       "      <td>Logged In</td>\n",
       "      <td>Anabelle</td>\n",
       "      <td>F</td>\n",
       "      <td>1</td>\n",
       "      <td>Simpson</td>\n",
       "      <td>264.75057</td>\n",
       "      <td>free</td>\n",
       "      <td>Philadelphia-Camden-Wilmington, PA-NJ-DE-MD</td>\n",
       "      <td>PUT</td>\n",
       "      <td>NextSong</td>\n",
       "      <td>1.541044e+12</td>\n",
       "      <td>455</td>\n",
       "      <td>By The Time This Night Is Over</td>\n",
       "      <td>200</td>\n",
       "      <td>1541903770796</td>\n",
       "      <td>\"Mozilla/5.0 (Macintosh; Intel Mac OS X 10_9_4...</td>\n",
       "      <td>69</td>\n",
       "    </tr>\n",
       "    <tr>\n",
       "      <th>2</th>\n",
       "      <td>Biffy Clyro</td>\n",
       "      <td>Logged In</td>\n",
       "      <td>Anabelle</td>\n",
       "      <td>F</td>\n",
       "      <td>2</td>\n",
       "      <td>Simpson</td>\n",
       "      <td>189.83138</td>\n",
       "      <td>free</td>\n",
       "      <td>Philadelphia-Camden-Wilmington, PA-NJ-DE-MD</td>\n",
       "      <td>PUT</td>\n",
       "      <td>NextSong</td>\n",
       "      <td>1.541044e+12</td>\n",
       "      <td>455</td>\n",
       "      <td>God &amp; Satan</td>\n",
       "      <td>200</td>\n",
       "      <td>1541904034796</td>\n",
       "      <td>\"Mozilla/5.0 (Macintosh; Intel Mac OS X 10_9_4...</td>\n",
       "      <td>69</td>\n",
       "    </tr>\n",
       "  </tbody>\n",
       "</table>\n",
       "</div>"
      ],
      "text/plain": [
       "                      artist       auth firstName gender  itemInSession  \\\n",
       "0                   Frumpies  Logged In  Anabelle      F              0   \n",
       "1  Kenny G with Peabo Bryson  Logged In  Anabelle      F              1   \n",
       "2                Biffy Clyro  Logged In  Anabelle      F              2   \n",
       "\n",
       "  lastName     length level                                     location  \\\n",
       "0  Simpson  134.47791  free  Philadelphia-Camden-Wilmington, PA-NJ-DE-MD   \n",
       "1  Simpson  264.75057  free  Philadelphia-Camden-Wilmington, PA-NJ-DE-MD   \n",
       "2  Simpson  189.83138  free  Philadelphia-Camden-Wilmington, PA-NJ-DE-MD   \n",
       "\n",
       "  method      page  registration  sessionId                            song  \\\n",
       "0    PUT  NextSong  1.541044e+12        455                      Fuck Kitty   \n",
       "1    PUT  NextSong  1.541044e+12        455  By The Time This Night Is Over   \n",
       "2    PUT  NextSong  1.541044e+12        455                     God & Satan   \n",
       "\n",
       "   status             ts                                          userAgent  \\\n",
       "0     200  1541903636796  \"Mozilla/5.0 (Macintosh; Intel Mac OS X 10_9_4...   \n",
       "1     200  1541903770796  \"Mozilla/5.0 (Macintosh; Intel Mac OS X 10_9_4...   \n",
       "2     200  1541904034796  \"Mozilla/5.0 (Macintosh; Intel Mac OS X 10_9_4...   \n",
       "\n",
       "  userId  \n",
       "0     69  \n",
       "1     69  \n",
       "2     69  "
      ]
     },
     "execution_count": 26,
     "metadata": {},
     "output_type": "execute_result"
    }
   ],
   "source": [
    "df3 = df3.loc[df3['page'] == 'NextSong']\n",
    "df3.head(3)"
   ]
  },
  {
   "cell_type": "code",
   "execution_count": 27,
   "metadata": {
    "scrolled": true
   },
   "outputs": [
    {
     "data": {
      "text/html": [
       "<div>\n",
       "<style scoped>\n",
       "    .dataframe tbody tr th:only-of-type {\n",
       "        vertical-align: middle;\n",
       "    }\n",
       "\n",
       "    .dataframe tbody tr th {\n",
       "        vertical-align: top;\n",
       "    }\n",
       "\n",
       "    .dataframe thead th {\n",
       "        text-align: right;\n",
       "    }\n",
       "</style>\n",
       "<table border=\"1\" class=\"dataframe\">\n",
       "  <thead>\n",
       "    <tr style=\"text-align: right;\">\n",
       "      <th></th>\n",
       "      <th>artist</th>\n",
       "      <th>auth</th>\n",
       "      <th>firstName</th>\n",
       "      <th>gender</th>\n",
       "      <th>itemInSession</th>\n",
       "      <th>lastName</th>\n",
       "      <th>length</th>\n",
       "      <th>level</th>\n",
       "      <th>location</th>\n",
       "      <th>method</th>\n",
       "      <th>page</th>\n",
       "      <th>registration</th>\n",
       "      <th>sessionId</th>\n",
       "      <th>song</th>\n",
       "      <th>status</th>\n",
       "      <th>ts</th>\n",
       "      <th>userAgent</th>\n",
       "      <th>userId</th>\n",
       "    </tr>\n",
       "  </thead>\n",
       "  <tbody>\n",
       "    <tr>\n",
       "      <th>0</th>\n",
       "      <td>Frumpies</td>\n",
       "      <td>Logged In</td>\n",
       "      <td>Anabelle</td>\n",
       "      <td>F</td>\n",
       "      <td>0</td>\n",
       "      <td>Simpson</td>\n",
       "      <td>134.47791</td>\n",
       "      <td>free</td>\n",
       "      <td>Philadelphia-Camden-Wilmington, PA-NJ-DE-MD</td>\n",
       "      <td>PUT</td>\n",
       "      <td>NextSong</td>\n",
       "      <td>1.541044e+12</td>\n",
       "      <td>455</td>\n",
       "      <td>Fuck Kitty</td>\n",
       "      <td>200</td>\n",
       "      <td>1970-01-01 00:25:41.903636796</td>\n",
       "      <td>\"Mozilla/5.0 (Macintosh; Intel Mac OS X 10_9_4...</td>\n",
       "      <td>69</td>\n",
       "    </tr>\n",
       "    <tr>\n",
       "      <th>1</th>\n",
       "      <td>Kenny G with Peabo Bryson</td>\n",
       "      <td>Logged In</td>\n",
       "      <td>Anabelle</td>\n",
       "      <td>F</td>\n",
       "      <td>1</td>\n",
       "      <td>Simpson</td>\n",
       "      <td>264.75057</td>\n",
       "      <td>free</td>\n",
       "      <td>Philadelphia-Camden-Wilmington, PA-NJ-DE-MD</td>\n",
       "      <td>PUT</td>\n",
       "      <td>NextSong</td>\n",
       "      <td>1.541044e+12</td>\n",
       "      <td>455</td>\n",
       "      <td>By The Time This Night Is Over</td>\n",
       "      <td>200</td>\n",
       "      <td>1970-01-01 00:25:41.903770796</td>\n",
       "      <td>\"Mozilla/5.0 (Macintosh; Intel Mac OS X 10_9_4...</td>\n",
       "      <td>69</td>\n",
       "    </tr>\n",
       "  </tbody>\n",
       "</table>\n",
       "</div>"
      ],
      "text/plain": [
       "                      artist       auth firstName gender  itemInSession  \\\n",
       "0                   Frumpies  Logged In  Anabelle      F              0   \n",
       "1  Kenny G with Peabo Bryson  Logged In  Anabelle      F              1   \n",
       "\n",
       "  lastName     length level                                     location  \\\n",
       "0  Simpson  134.47791  free  Philadelphia-Camden-Wilmington, PA-NJ-DE-MD   \n",
       "1  Simpson  264.75057  free  Philadelphia-Camden-Wilmington, PA-NJ-DE-MD   \n",
       "\n",
       "  method      page  registration  sessionId                            song  \\\n",
       "0    PUT  NextSong  1.541044e+12        455                      Fuck Kitty   \n",
       "1    PUT  NextSong  1.541044e+12        455  By The Time This Night Is Over   \n",
       "\n",
       "   status                            ts  \\\n",
       "0     200 1970-01-01 00:25:41.903636796   \n",
       "1     200 1970-01-01 00:25:41.903770796   \n",
       "\n",
       "                                           userAgent userId  \n",
       "0  \"Mozilla/5.0 (Macintosh; Intel Mac OS X 10_9_4...     69  \n",
       "1  \"Mozilla/5.0 (Macintosh; Intel Mac OS X 10_9_4...     69  "
      ]
     },
     "execution_count": 27,
     "metadata": {},
     "output_type": "execute_result"
    }
   ],
   "source": [
    "df3['ts'] = pd.to_datetime(df3['ts'])\n",
    "df3.head(2)"
   ]
  },
  {
   "cell_type": "code",
   "execution_count": 28,
   "metadata": {
    "scrolled": true
   },
   "outputs": [
    {
     "data": {
      "text/plain": [
       "[Timestamp('1970-01-01 00:25:41.903636796'),\n",
       " Timestamp('1970-01-01 00:25:41.903770796'),\n",
       " Timestamp('1970-01-01 00:25:41.904034796')]"
      ]
     },
     "execution_count": 28,
     "metadata": {},
     "output_type": "execute_result"
    }
   ],
   "source": [
    "df3['ts'].tolist()[0:3]"
   ]
  },
  {
   "cell_type": "code",
   "execution_count": 29,
   "metadata": {
    "scrolled": true
   },
   "outputs": [
    {
     "name": "stderr",
     "output_type": "stream",
     "text": [
      "<ipython-input-29-0dd367ba8f77>:3: SettingWithCopyWarning: \n",
      "A value is trying to be set on a copy of a slice from a DataFrame.\n",
      "Try using .loc[row_indexer,col_indexer] = value instead\n",
      "\n",
      "See the caveats in the documentation: https://pandas.pydata.org/pandas-docs/stable/user_guide/indexing.html#returning-a-view-versus-a-copy\n",
      "  time_df['timestamp'] = pd.to_datetime(time_df['ts']).dt.time\n",
      "<ipython-input-29-0dd367ba8f77>:4: SettingWithCopyWarning: \n",
      "A value is trying to be set on a copy of a slice from a DataFrame.\n",
      "Try using .loc[row_indexer,col_indexer] = value instead\n",
      "\n",
      "See the caveats in the documentation: https://pandas.pydata.org/pandas-docs/stable/user_guide/indexing.html#returning-a-view-versus-a-copy\n",
      "  time_df['hour'] = pd.to_datetime(time_df['ts']).dt.hour\n",
      "<ipython-input-29-0dd367ba8f77>:5: SettingWithCopyWarning: \n",
      "A value is trying to be set on a copy of a slice from a DataFrame.\n",
      "Try using .loc[row_indexer,col_indexer] = value instead\n",
      "\n",
      "See the caveats in the documentation: https://pandas.pydata.org/pandas-docs/stable/user_guide/indexing.html#returning-a-view-versus-a-copy\n",
      "  time_df['day'] = pd.to_datetime(time_df['ts']).dt.day\n",
      "<ipython-input-29-0dd367ba8f77>:6: FutureWarning: Series.dt.weekofyear and Series.dt.week have been deprecated.  Please use Series.dt.isocalendar().week instead.\n",
      "  time_df['week'] = pd.to_datetime(time_df['ts']).dt.week\n",
      "<ipython-input-29-0dd367ba8f77>:6: SettingWithCopyWarning: \n",
      "A value is trying to be set on a copy of a slice from a DataFrame.\n",
      "Try using .loc[row_indexer,col_indexer] = value instead\n",
      "\n",
      "See the caveats in the documentation: https://pandas.pydata.org/pandas-docs/stable/user_guide/indexing.html#returning-a-view-versus-a-copy\n",
      "  time_df['week'] = pd.to_datetime(time_df['ts']).dt.week\n",
      "<ipython-input-29-0dd367ba8f77>:7: SettingWithCopyWarning: \n",
      "A value is trying to be set on a copy of a slice from a DataFrame.\n",
      "Try using .loc[row_indexer,col_indexer] = value instead\n",
      "\n",
      "See the caveats in the documentation: https://pandas.pydata.org/pandas-docs/stable/user_guide/indexing.html#returning-a-view-versus-a-copy\n",
      "  time_df['month'] = pd.to_datetime(time_df['ts']).dt.month\n",
      "<ipython-input-29-0dd367ba8f77>:8: SettingWithCopyWarning: \n",
      "A value is trying to be set on a copy of a slice from a DataFrame.\n",
      "Try using .loc[row_indexer,col_indexer] = value instead\n",
      "\n",
      "See the caveats in the documentation: https://pandas.pydata.org/pandas-docs/stable/user_guide/indexing.html#returning-a-view-versus-a-copy\n",
      "  time_df['year'] = pd.to_datetime(time_df['ts']).dt.year\n",
      "<ipython-input-29-0dd367ba8f77>:9: SettingWithCopyWarning: \n",
      "A value is trying to be set on a copy of a slice from a DataFrame.\n",
      "Try using .loc[row_indexer,col_indexer] = value instead\n",
      "\n",
      "See the caveats in the documentation: https://pandas.pydata.org/pandas-docs/stable/user_guide/indexing.html#returning-a-view-versus-a-copy\n",
      "  time_df['weekday'] = pd.to_datetime(time_df['ts']).dt.weekday\n"
     ]
    },
    {
     "data": {
      "text/html": [
       "<div>\n",
       "<style scoped>\n",
       "    .dataframe tbody tr th:only-of-type {\n",
       "        vertical-align: middle;\n",
       "    }\n",
       "\n",
       "    .dataframe tbody tr th {\n",
       "        vertical-align: top;\n",
       "    }\n",
       "\n",
       "    .dataframe thead th {\n",
       "        text-align: right;\n",
       "    }\n",
       "</style>\n",
       "<table border=\"1\" class=\"dataframe\">\n",
       "  <thead>\n",
       "    <tr style=\"text-align: right;\">\n",
       "      <th></th>\n",
       "      <th>ts</th>\n",
       "      <th>timestamp</th>\n",
       "      <th>hour</th>\n",
       "      <th>day</th>\n",
       "      <th>week</th>\n",
       "      <th>month</th>\n",
       "      <th>year</th>\n",
       "      <th>weekday</th>\n",
       "    </tr>\n",
       "  </thead>\n",
       "  <tbody>\n",
       "    <tr>\n",
       "      <th>90</th>\n",
       "      <td>1970-01-01 00:25:41.970568796</td>\n",
       "      <td>00:25:41.970568</td>\n",
       "      <td>0</td>\n",
       "      <td>1</td>\n",
       "      <td>1</td>\n",
       "      <td>1</td>\n",
       "      <td>1970</td>\n",
       "      <td>3</td>\n",
       "    </tr>\n",
       "    <tr>\n",
       "      <th>91</th>\n",
       "      <td>1970-01-01 00:25:41.970828796</td>\n",
       "      <td>00:25:41.970828</td>\n",
       "      <td>0</td>\n",
       "      <td>1</td>\n",
       "      <td>1</td>\n",
       "      <td>1</td>\n",
       "      <td>1970</td>\n",
       "      <td>3</td>\n",
       "    </tr>\n",
       "    <tr>\n",
       "      <th>92</th>\n",
       "      <td>1970-01-01 00:25:41.971049796</td>\n",
       "      <td>00:25:41.971049</td>\n",
       "      <td>0</td>\n",
       "      <td>1</td>\n",
       "      <td>1</td>\n",
       "      <td>1</td>\n",
       "      <td>1970</td>\n",
       "      <td>3</td>\n",
       "    </tr>\n",
       "    <tr>\n",
       "      <th>93</th>\n",
       "      <td>1970-01-01 00:25:41.979540796</td>\n",
       "      <td>00:25:41.979540</td>\n",
       "      <td>0</td>\n",
       "      <td>1</td>\n",
       "      <td>1</td>\n",
       "      <td>1</td>\n",
       "      <td>1970</td>\n",
       "      <td>3</td>\n",
       "    </tr>\n",
       "    <tr>\n",
       "      <th>94</th>\n",
       "      <td>1970-01-01 00:25:41.979748796</td>\n",
       "      <td>00:25:41.979748</td>\n",
       "      <td>0</td>\n",
       "      <td>1</td>\n",
       "      <td>1</td>\n",
       "      <td>1</td>\n",
       "      <td>1970</td>\n",
       "      <td>3</td>\n",
       "    </tr>\n",
       "  </tbody>\n",
       "</table>\n",
       "</div>"
      ],
      "text/plain": [
       "                              ts        timestamp  hour  day  week  month  \\\n",
       "90 1970-01-01 00:25:41.970568796  00:25:41.970568     0    1     1      1   \n",
       "91 1970-01-01 00:25:41.970828796  00:25:41.970828     0    1     1      1   \n",
       "92 1970-01-01 00:25:41.971049796  00:25:41.971049     0    1     1      1   \n",
       "93 1970-01-01 00:25:41.979540796  00:25:41.979540     0    1     1      1   \n",
       "94 1970-01-01 00:25:41.979748796  00:25:41.979748     0    1     1      1   \n",
       "\n",
       "    year  weekday  \n",
       "90  1970        3  \n",
       "91  1970        3  \n",
       "92  1970        3  \n",
       "93  1970        3  \n",
       "94  1970        3  "
      ]
     },
     "execution_count": 29,
     "metadata": {},
     "output_type": "execute_result"
    }
   ],
   "source": [
    "#timestamp, hour, day, week of year, month, year, and weekday\n",
    "time_df = df3[['ts']]\n",
    "time_df['timestamp'] = pd.to_datetime(time_df['ts']).dt.time \n",
    "time_df['hour'] = pd.to_datetime(time_df['ts']).dt.hour\n",
    "time_df['day'] = pd.to_datetime(time_df['ts']).dt.day\n",
    "time_df['week'] = pd.to_datetime(time_df['ts']).dt.week\n",
    "time_df['month'] = pd.to_datetime(time_df['ts']).dt.month\n",
    "time_df['year'] = pd.to_datetime(time_df['ts']).dt.year\n",
    "time_df['weekday'] = pd.to_datetime(time_df['ts']).dt.weekday\n",
    "\n",
    "time_df.tail(5)"
   ]
  },
  {
   "cell_type": "code",
   "execution_count": 30,
   "metadata": {
    "scrolled": true
   },
   "outputs": [
    {
     "data": {
      "text/html": [
       "<div>\n",
       "<style scoped>\n",
       "    .dataframe tbody tr th:only-of-type {\n",
       "        vertical-align: middle;\n",
       "    }\n",
       "\n",
       "    .dataframe tbody tr th {\n",
       "        vertical-align: top;\n",
       "    }\n",
       "\n",
       "    .dataframe thead th {\n",
       "        text-align: right;\n",
       "    }\n",
       "</style>\n",
       "<table border=\"1\" class=\"dataframe\">\n",
       "  <thead>\n",
       "    <tr style=\"text-align: right;\">\n",
       "      <th></th>\n",
       "      <th>timestamp</th>\n",
       "      <th>hour</th>\n",
       "      <th>day</th>\n",
       "      <th>week</th>\n",
       "      <th>month</th>\n",
       "      <th>year</th>\n",
       "      <th>weekday</th>\n",
       "    </tr>\n",
       "  </thead>\n",
       "  <tbody>\n",
       "    <tr>\n",
       "      <th>0</th>\n",
       "      <td>00:25:41.903636</td>\n",
       "      <td>0</td>\n",
       "      <td>1</td>\n",
       "      <td>1</td>\n",
       "      <td>1</td>\n",
       "      <td>1970</td>\n",
       "      <td>3</td>\n",
       "    </tr>\n",
       "    <tr>\n",
       "      <th>1</th>\n",
       "      <td>00:25:41.903770</td>\n",
       "      <td>0</td>\n",
       "      <td>1</td>\n",
       "      <td>1</td>\n",
       "      <td>1</td>\n",
       "      <td>1970</td>\n",
       "      <td>3</td>\n",
       "    </tr>\n",
       "    <tr>\n",
       "      <th>2</th>\n",
       "      <td>00:25:41.904034</td>\n",
       "      <td>0</td>\n",
       "      <td>1</td>\n",
       "      <td>1</td>\n",
       "      <td>1</td>\n",
       "      <td>1970</td>\n",
       "      <td>3</td>\n",
       "    </tr>\n",
       "    <tr>\n",
       "      <th>4</th>\n",
       "      <td>00:25:41.910973</td>\n",
       "      <td>0</td>\n",
       "      <td>1</td>\n",
       "      <td>1</td>\n",
       "      <td>1</td>\n",
       "      <td>1970</td>\n",
       "      <td>3</td>\n",
       "    </tr>\n",
       "    <tr>\n",
       "      <th>5</th>\n",
       "      <td>00:25:41.911006</td>\n",
       "      <td>0</td>\n",
       "      <td>1</td>\n",
       "      <td>1</td>\n",
       "      <td>1</td>\n",
       "      <td>1970</td>\n",
       "      <td>3</td>\n",
       "    </tr>\n",
       "  </tbody>\n",
       "</table>\n",
       "</div>"
      ],
      "text/plain": [
       "         timestamp  hour  day  week  month  year  weekday\n",
       "0  00:25:41.903636     0    1     1      1  1970        3\n",
       "1  00:25:41.903770     0    1     1      1  1970        3\n",
       "2  00:25:41.904034     0    1     1      1  1970        3\n",
       "4  00:25:41.910973     0    1     1      1  1970        3\n",
       "5  00:25:41.911006     0    1     1      1  1970        3"
      ]
     },
     "execution_count": 30,
     "metadata": {},
     "output_type": "execute_result"
    }
   ],
   "source": [
    "time_df = time_df[['timestamp','hour','day','week','month','year','weekday']]\n",
    "time_df.head()"
   ]
  },
  {
   "cell_type": "code",
   "execution_count": 31,
   "metadata": {},
   "outputs": [
    {
     "name": "stdout",
     "output_type": "stream",
     "text": [
      "<class 'pandas.core.frame.DataFrame'>\n",
      "Int64Index: 73 entries, 0 to 94\n",
      "Data columns (total 7 columns):\n",
      " #   Column     Non-Null Count  Dtype \n",
      "---  ------     --------------  ----- \n",
      " 0   timestamp  73 non-null     object\n",
      " 1   hour       73 non-null     int64 \n",
      " 2   day        73 non-null     int64 \n",
      " 3   week       73 non-null     int64 \n",
      " 4   month      73 non-null     int64 \n",
      " 5   year       73 non-null     int64 \n",
      " 6   weekday    73 non-null     int64 \n",
      "dtypes: int64(6), object(1)\n",
      "memory usage: 4.6+ KB\n"
     ]
    }
   ],
   "source": [
    "time_df.info()"
   ]
  },
  {
   "cell_type": "markdown",
   "metadata": {},
   "source": [
    "#### Insert Records into Time Table\n",
    "Implement the `time_table_insert` query in `sql_queries.py` and run the cell below to insert records for the timestamps in this log file into the `time` table. Remember to run `create_tables.py` before running the cell below to ensure you've created/resetted the `time` table in the sparkify database."
   ]
  },
  {
   "cell_type": "code",
   "execution_count": 32,
   "metadata": {},
   "outputs": [],
   "source": [
    "for i, row in time_df.iterrows():\n",
    "    cur.execute(time_table_insert, list(row))\n",
    "    conn.commit()"
   ]
  },
  {
   "cell_type": "markdown",
   "metadata": {},
   "source": [
    "Run `test.ipynb` to see if you've successfully added records to this table."
   ]
  },
  {
   "cell_type": "markdown",
   "metadata": {},
   "source": [
    "## #4: `users` Table\n",
    "#### Extract Data for Users Table\n",
    "- Select columns for user ID, first name, last name, gender and level and set to `user_df`"
   ]
  },
  {
   "cell_type": "code",
   "execution_count": 33,
   "metadata": {},
   "outputs": [
    {
     "data": {
      "text/html": [
       "<div>\n",
       "<style scoped>\n",
       "    .dataframe tbody tr th:only-of-type {\n",
       "        vertical-align: middle;\n",
       "    }\n",
       "\n",
       "    .dataframe tbody tr th {\n",
       "        vertical-align: top;\n",
       "    }\n",
       "\n",
       "    .dataframe thead th {\n",
       "        text-align: right;\n",
       "    }\n",
       "</style>\n",
       "<table border=\"1\" class=\"dataframe\">\n",
       "  <thead>\n",
       "    <tr style=\"text-align: right;\">\n",
       "      <th></th>\n",
       "      <th>userId</th>\n",
       "      <th>firstName</th>\n",
       "      <th>lastName</th>\n",
       "      <th>gender</th>\n",
       "      <th>level</th>\n",
       "    </tr>\n",
       "  </thead>\n",
       "  <tbody>\n",
       "    <tr>\n",
       "      <th>0</th>\n",
       "      <td>69</td>\n",
       "      <td>Anabelle</td>\n",
       "      <td>Simpson</td>\n",
       "      <td>F</td>\n",
       "      <td>free</td>\n",
       "    </tr>\n",
       "  </tbody>\n",
       "</table>\n",
       "</div>"
      ],
      "text/plain": [
       "  userId firstName lastName gender level\n",
       "0     69  Anabelle  Simpson      F  free"
      ]
     },
     "execution_count": 33,
     "metadata": {},
     "output_type": "execute_result"
    }
   ],
   "source": [
    "user_df = df3[['userId','firstName','lastName','gender','level']]\n",
    "user_df.head(1)"
   ]
  },
  {
   "cell_type": "markdown",
   "metadata": {},
   "source": [
    "#### Insert Records into Users Table\n",
    "Implement the `user_table_insert` query in `sql_queries.py` and run the cell below to insert records for the users in this log file into the `users` table. Remember to run `create_tables.py` before running the cell below to ensure you've created/resetted the `users` table in the sparkify database."
   ]
  },
  {
   "cell_type": "code",
   "execution_count": 34,
   "metadata": {},
   "outputs": [],
   "source": [
    "for i, row in user_df.iterrows():\n",
    "    cur.execute(user_table_insert, row)\n",
    "    conn.commit()"
   ]
  },
  {
   "cell_type": "markdown",
   "metadata": {},
   "source": [
    "Run `test.ipynb` to see if you've successfully added records to this table."
   ]
  },
  {
   "cell_type": "markdown",
   "metadata": {},
   "source": [
    "## #5: `songplays` Table\n",
    "#### Extract Data and Songplays Table\n",
    "This one is a little more complicated since information from the songs table, artists table, and original log file are all needed for the `songplays` table. Since the log file does not specify an ID for either the song or the artist, you'll need to get the song ID and artist ID by querying the songs and artists tables to find matches based on song title, artist name, and song duration time.\n",
    "- Implement the `song_select` query in `sql_queries.py` to find the song ID and artist ID based on the title, artist name, and duration of a song.\n",
    "- Select the timestamp, user ID, level, song ID, artist ID, session ID, location, and user agent and set to `songplay_data`\n",
    "\n",
    "#### Insert Records into Songplays Table\n",
    "- Implement the `songplay_table_insert` query and run the cell below to insert records for the songplay actions in this log file into the `songplays` table. Remember to run `create_tables.py` before running the cell below to ensure you've created/resetted the `songplays` table in the sparkify database."
   ]
  },
  {
   "cell_type": "code",
   "execution_count": 35,
   "metadata": {
    "scrolled": true
   },
   "outputs": [
    {
     "data": {
      "text/html": [
       "<div>\n",
       "<style scoped>\n",
       "    .dataframe tbody tr th:only-of-type {\n",
       "        vertical-align: middle;\n",
       "    }\n",
       "\n",
       "    .dataframe tbody tr th {\n",
       "        vertical-align: top;\n",
       "    }\n",
       "\n",
       "    .dataframe thead th {\n",
       "        text-align: right;\n",
       "    }\n",
       "</style>\n",
       "<table border=\"1\" class=\"dataframe\">\n",
       "  <thead>\n",
       "    <tr style=\"text-align: right;\">\n",
       "      <th></th>\n",
       "      <th>artist</th>\n",
       "      <th>auth</th>\n",
       "      <th>firstName</th>\n",
       "      <th>gender</th>\n",
       "      <th>itemInSession</th>\n",
       "      <th>lastName</th>\n",
       "      <th>length</th>\n",
       "      <th>level</th>\n",
       "      <th>location</th>\n",
       "      <th>method</th>\n",
       "      <th>page</th>\n",
       "      <th>registration</th>\n",
       "      <th>sessionId</th>\n",
       "      <th>song</th>\n",
       "      <th>status</th>\n",
       "      <th>ts</th>\n",
       "      <th>userAgent</th>\n",
       "      <th>userId</th>\n",
       "    </tr>\n",
       "  </thead>\n",
       "  <tbody>\n",
       "    <tr>\n",
       "      <th>0</th>\n",
       "      <td>Frumpies</td>\n",
       "      <td>Logged In</td>\n",
       "      <td>Anabelle</td>\n",
       "      <td>F</td>\n",
       "      <td>0</td>\n",
       "      <td>Simpson</td>\n",
       "      <td>134.47791</td>\n",
       "      <td>free</td>\n",
       "      <td>Philadelphia-Camden-Wilmington, PA-NJ-DE-MD</td>\n",
       "      <td>PUT</td>\n",
       "      <td>NextSong</td>\n",
       "      <td>1.541044e+12</td>\n",
       "      <td>455</td>\n",
       "      <td>Fuck Kitty</td>\n",
       "      <td>200</td>\n",
       "      <td>1541903636796</td>\n",
       "      <td>\"Mozilla/5.0 (Macintosh; Intel Mac OS X 10_9_4...</td>\n",
       "      <td>69</td>\n",
       "    </tr>\n",
       "    <tr>\n",
       "      <th>1</th>\n",
       "      <td>Kenny G with Peabo Bryson</td>\n",
       "      <td>Logged In</td>\n",
       "      <td>Anabelle</td>\n",
       "      <td>F</td>\n",
       "      <td>1</td>\n",
       "      <td>Simpson</td>\n",
       "      <td>264.75057</td>\n",
       "      <td>free</td>\n",
       "      <td>Philadelphia-Camden-Wilmington, PA-NJ-DE-MD</td>\n",
       "      <td>PUT</td>\n",
       "      <td>NextSong</td>\n",
       "      <td>1.541044e+12</td>\n",
       "      <td>455</td>\n",
       "      <td>By The Time This Night Is Over</td>\n",
       "      <td>200</td>\n",
       "      <td>1541903770796</td>\n",
       "      <td>\"Mozilla/5.0 (Macintosh; Intel Mac OS X 10_9_4...</td>\n",
       "      <td>69</td>\n",
       "    </tr>\n",
       "  </tbody>\n",
       "</table>\n",
       "</div>"
      ],
      "text/plain": [
       "                      artist       auth firstName gender  itemInSession  \\\n",
       "0                   Frumpies  Logged In  Anabelle      F              0   \n",
       "1  Kenny G with Peabo Bryson  Logged In  Anabelle      F              1   \n",
       "\n",
       "  lastName     length level                                     location  \\\n",
       "0  Simpson  134.47791  free  Philadelphia-Camden-Wilmington, PA-NJ-DE-MD   \n",
       "1  Simpson  264.75057  free  Philadelphia-Camden-Wilmington, PA-NJ-DE-MD   \n",
       "\n",
       "  method      page  registration  sessionId                            song  \\\n",
       "0    PUT  NextSong  1.541044e+12        455                      Fuck Kitty   \n",
       "1    PUT  NextSong  1.541044e+12        455  By The Time This Night Is Over   \n",
       "\n",
       "   status             ts                                          userAgent  \\\n",
       "0     200  1541903636796  \"Mozilla/5.0 (Macintosh; Intel Mac OS X 10_9_4...   \n",
       "1     200  1541903770796  \"Mozilla/5.0 (Macintosh; Intel Mac OS X 10_9_4...   \n",
       "\n",
       "  userId  \n",
       "0     69  \n",
       "1     69  "
      ]
     },
     "execution_count": 35,
     "metadata": {},
     "output_type": "execute_result"
    }
   ],
   "source": [
    "log_df_data = []\n",
    "for i in log_files:\n",
    "    for line in open(i,'r'):\n",
    "         log_df_data.append(json.loads(line))\n",
    "        \n",
    "log_df = pd.DataFrame.from_records(log_df_data)\n",
    "log_df.head(2)"
   ]
  },
  {
   "cell_type": "code",
   "execution_count": 36,
   "metadata": {},
   "outputs": [],
   "source": [
    "log_df['artist'] = log_df['firstName'] +\" \" + log_df['lastName']"
   ]
  },
  {
   "cell_type": "code",
   "execution_count": 37,
   "metadata": {},
   "outputs": [],
   "source": [
    "log_df['artist'] = log_df['artist'].fillna('none')"
   ]
  },
  {
   "cell_type": "code",
   "execution_count": 38,
   "metadata": {
    "scrolled": true
   },
   "outputs": [
    {
     "data": {
      "text/plain": [
       "('SONHOTT12A8C13493C', 'AR7G5I41187FB4CE6C')"
      ]
     },
     "execution_count": 38,
     "metadata": {},
     "output_type": "execute_result"
    }
   ],
   "source": [
    "cur.execute(song_select)\n",
    "results = cur.fetchone()\n",
    "results"
   ]
  },
  {
   "cell_type": "code",
   "execution_count": 39,
   "metadata": {
    "scrolled": true
   },
   "outputs": [
    {
     "data": {
      "text/html": [
       "<div>\n",
       "<style scoped>\n",
       "    .dataframe tbody tr th:only-of-type {\n",
       "        vertical-align: middle;\n",
       "    }\n",
       "\n",
       "    .dataframe tbody tr th {\n",
       "        vertical-align: top;\n",
       "    }\n",
       "\n",
       "    .dataframe thead th {\n",
       "        text-align: right;\n",
       "    }\n",
       "</style>\n",
       "<table border=\"1\" class=\"dataframe\">\n",
       "  <thead>\n",
       "    <tr style=\"text-align: right;\">\n",
       "      <th></th>\n",
       "      <th>song_id</th>\n",
       "      <th>artist_id</th>\n",
       "    </tr>\n",
       "  </thead>\n",
       "  <tbody>\n",
       "    <tr>\n",
       "      <th>0</th>\n",
       "      <td>SONHOTT12A8C13493C</td>\n",
       "      <td>AR7G5I41187FB4CE6C</td>\n",
       "    </tr>\n",
       "  </tbody>\n",
       "</table>\n",
       "</div>"
      ],
      "text/plain": [
       "              song_id           artist_id\n",
       "0  SONHOTT12A8C13493C  AR7G5I41187FB4CE6C"
      ]
     },
     "execution_count": 39,
     "metadata": {},
     "output_type": "execute_result"
    }
   ],
   "source": [
    "import pandas.io.sql as sqlio\n",
    "\n",
    "sql = song_select\n",
    "dat2 = sqlio.read_sql_query(sql, conn)\n",
    "dat2.head()"
   ]
  },
  {
   "cell_type": "markdown",
   "metadata": {},
   "source": [
    "# Song_Select is querying the Songs and Artists tables, which have only one record stored in them as per Udacity requirements.\n",
    "# We need full data for this last table, hence our call to the original dataframes below."
   ]
  },
  {
   "cell_type": "code",
   "execution_count": 40,
   "metadata": {},
   "outputs": [
    {
     "data": {
      "text/html": [
       "<div>\n",
       "<style scoped>\n",
       "    .dataframe tbody tr th:only-of-type {\n",
       "        vertical-align: middle;\n",
       "    }\n",
       "\n",
       "    .dataframe tbody tr th {\n",
       "        vertical-align: top;\n",
       "    }\n",
       "\n",
       "    .dataframe thead th {\n",
       "        text-align: right;\n",
       "    }\n",
       "</style>\n",
       "<table border=\"1\" class=\"dataframe\">\n",
       "  <thead>\n",
       "    <tr style=\"text-align: right;\">\n",
       "      <th></th>\n",
       "      <th>song_id</th>\n",
       "      <th>title</th>\n",
       "      <th>artist_id</th>\n",
       "      <th>year</th>\n",
       "      <th>duration</th>\n",
       "    </tr>\n",
       "  </thead>\n",
       "  <tbody>\n",
       "    <tr>\n",
       "      <th>0</th>\n",
       "      <td>SONHOTT12A8C13493C</td>\n",
       "      <td>Something Girls</td>\n",
       "      <td>AR7G5I41187FB4CE6C</td>\n",
       "      <td>1982</td>\n",
       "      <td>233.40363</td>\n",
       "    </tr>\n",
       "    <tr>\n",
       "      <th>1</th>\n",
       "      <td>SOIAZJW12AB01853F1</td>\n",
       "      <td>Pink World</td>\n",
       "      <td>AR8ZCNI1187B9A069B</td>\n",
       "      <td>1984</td>\n",
       "      <td>269.81832</td>\n",
       "    </tr>\n",
       "    <tr>\n",
       "      <th>2</th>\n",
       "      <td>SOFSOCN12A8C143F5D</td>\n",
       "      <td>Face the Ashes</td>\n",
       "      <td>ARXR32B1187FB57099</td>\n",
       "      <td>2007</td>\n",
       "      <td>209.60608</td>\n",
       "    </tr>\n",
       "    <tr>\n",
       "      <th>3</th>\n",
       "      <td>SOHKNRJ12A6701D1F8</td>\n",
       "      <td>Drop of Rain</td>\n",
       "      <td>AR10USD1187B99F3F1</td>\n",
       "      <td>0</td>\n",
       "      <td>189.57016</td>\n",
       "    </tr>\n",
       "    <tr>\n",
       "      <th>4</th>\n",
       "      <td>SOQHXMF12AB0182363</td>\n",
       "      <td>Young Boy Blues</td>\n",
       "      <td>ARGSJW91187B9B1D6B</td>\n",
       "      <td>0</td>\n",
       "      <td>218.77506</td>\n",
       "    </tr>\n",
       "  </tbody>\n",
       "</table>\n",
       "</div>"
      ],
      "text/plain": [
       "              song_id            title           artist_id  year   duration\n",
       "0  SONHOTT12A8C13493C  Something Girls  AR7G5I41187FB4CE6C  1982  233.40363\n",
       "1  SOIAZJW12AB01853F1       Pink World  AR8ZCNI1187B9A069B  1984  269.81832\n",
       "2  SOFSOCN12A8C143F5D   Face the Ashes  ARXR32B1187FB57099  2007  209.60608\n",
       "3  SOHKNRJ12A6701D1F8     Drop of Rain  AR10USD1187B99F3F1     0  189.57016\n",
       "4  SOQHXMF12AB0182363  Young Boy Blues  ARGSJW91187B9B1D6B     0  218.77506"
      ]
     },
     "execution_count": 40,
     "metadata": {},
     "output_type": "execute_result"
    }
   ],
   "source": [
    "df.head()"
   ]
  },
  {
   "cell_type": "code",
   "execution_count": 41,
   "metadata": {
    "scrolled": true
   },
   "outputs": [
    {
     "data": {
      "text/html": [
       "<div>\n",
       "<style scoped>\n",
       "    .dataframe tbody tr th:only-of-type {\n",
       "        vertical-align: middle;\n",
       "    }\n",
       "\n",
       "    .dataframe tbody tr th {\n",
       "        vertical-align: top;\n",
       "    }\n",
       "\n",
       "    .dataframe thead th {\n",
       "        text-align: right;\n",
       "    }\n",
       "</style>\n",
       "<table border=\"1\" class=\"dataframe\">\n",
       "  <thead>\n",
       "    <tr style=\"text-align: right;\">\n",
       "      <th></th>\n",
       "      <th>artist_id</th>\n",
       "      <th>artist_name</th>\n",
       "      <th>artist_location</th>\n",
       "      <th>artist_latitude</th>\n",
       "      <th>artist_longitude</th>\n",
       "    </tr>\n",
       "  </thead>\n",
       "  <tbody>\n",
       "    <tr>\n",
       "      <th>0</th>\n",
       "      <td>AR7G5I41187FB4CE6C</td>\n",
       "      <td>Adam Ant</td>\n",
       "      <td>London, England</td>\n",
       "      <td>NaN</td>\n",
       "      <td>NaN</td>\n",
       "    </tr>\n",
       "    <tr>\n",
       "      <th>1</th>\n",
       "      <td>AR8ZCNI1187B9A069B</td>\n",
       "      <td>Planet P Project</td>\n",
       "      <td></td>\n",
       "      <td>NaN</td>\n",
       "      <td>NaN</td>\n",
       "    </tr>\n",
       "    <tr>\n",
       "      <th>2</th>\n",
       "      <td>ARXR32B1187FB57099</td>\n",
       "      <td>Gob</td>\n",
       "      <td></td>\n",
       "      <td>NaN</td>\n",
       "      <td>NaN</td>\n",
       "    </tr>\n",
       "    <tr>\n",
       "      <th>3</th>\n",
       "      <td>AR10USD1187B99F3F1</td>\n",
       "      <td>Tweeterfriendly Music</td>\n",
       "      <td>Burlington, Ontario, Canada</td>\n",
       "      <td>NaN</td>\n",
       "      <td>NaN</td>\n",
       "    </tr>\n",
       "    <tr>\n",
       "      <th>4</th>\n",
       "      <td>ARGSJW91187B9B1D6B</td>\n",
       "      <td>JennyAnyKind</td>\n",
       "      <td>North Carolina</td>\n",
       "      <td>35.21962</td>\n",
       "      <td>-80.01955</td>\n",
       "    </tr>\n",
       "  </tbody>\n",
       "</table>\n",
       "</div>"
      ],
      "text/plain": [
       "            artist_id            artist_name              artist_location  \\\n",
       "0  AR7G5I41187FB4CE6C               Adam Ant              London, England   \n",
       "1  AR8ZCNI1187B9A069B       Planet P Project                                \n",
       "2  ARXR32B1187FB57099                    Gob                                \n",
       "3  AR10USD1187B99F3F1  Tweeterfriendly Music  Burlington, Ontario, Canada   \n",
       "4  ARGSJW91187B9B1D6B           JennyAnyKind               North Carolina   \n",
       "\n",
       "   artist_latitude  artist_longitude  \n",
       "0              NaN               NaN  \n",
       "1              NaN               NaN  \n",
       "2              NaN               NaN  \n",
       "3              NaN               NaN  \n",
       "4         35.21962         -80.01955  "
      ]
     },
     "execution_count": 41,
     "metadata": {},
     "output_type": "execute_result"
    }
   ],
   "source": [
    "df2.head()"
   ]
  },
  {
   "cell_type": "code",
   "execution_count": 42,
   "metadata": {},
   "outputs": [
    {
     "data": {
      "text/html": [
       "<div>\n",
       "<style scoped>\n",
       "    .dataframe tbody tr th:only-of-type {\n",
       "        vertical-align: middle;\n",
       "    }\n",
       "\n",
       "    .dataframe tbody tr th {\n",
       "        vertical-align: top;\n",
       "    }\n",
       "\n",
       "    .dataframe thead th {\n",
       "        text-align: right;\n",
       "    }\n",
       "</style>\n",
       "<table border=\"1\" class=\"dataframe\">\n",
       "  <thead>\n",
       "    <tr style=\"text-align: right;\">\n",
       "      <th></th>\n",
       "      <th>song_id</th>\n",
       "      <th>title</th>\n",
       "      <th>artist_name</th>\n",
       "      <th>year</th>\n",
       "      <th>duration</th>\n",
       "    </tr>\n",
       "  </thead>\n",
       "  <tbody>\n",
       "    <tr>\n",
       "      <th>0</th>\n",
       "      <td>SONHOTT12A8C13493C</td>\n",
       "      <td>Something Girls</td>\n",
       "      <td>Adam Ant</td>\n",
       "      <td>1982</td>\n",
       "      <td>233.40363</td>\n",
       "    </tr>\n",
       "    <tr>\n",
       "      <th>1</th>\n",
       "      <td>SOIAZJW12AB01853F1</td>\n",
       "      <td>Pink World</td>\n",
       "      <td>Planet P Project</td>\n",
       "      <td>1984</td>\n",
       "      <td>269.81832</td>\n",
       "    </tr>\n",
       "    <tr>\n",
       "      <th>2</th>\n",
       "      <td>SOFSOCN12A8C143F5D</td>\n",
       "      <td>Face the Ashes</td>\n",
       "      <td>Gob</td>\n",
       "      <td>2007</td>\n",
       "      <td>209.60608</td>\n",
       "    </tr>\n",
       "    <tr>\n",
       "      <th>3</th>\n",
       "      <td>SOHKNRJ12A6701D1F8</td>\n",
       "      <td>Drop of Rain</td>\n",
       "      <td>Tweeterfriendly Music</td>\n",
       "      <td>0</td>\n",
       "      <td>189.57016</td>\n",
       "    </tr>\n",
       "    <tr>\n",
       "      <th>4</th>\n",
       "      <td>SOQHXMF12AB0182363</td>\n",
       "      <td>Young Boy Blues</td>\n",
       "      <td>JennyAnyKind</td>\n",
       "      <td>0</td>\n",
       "      <td>218.77506</td>\n",
       "    </tr>\n",
       "  </tbody>\n",
       "</table>\n",
       "</div>"
      ],
      "text/plain": [
       "              song_id            title            artist_name  year   duration\n",
       "0  SONHOTT12A8C13493C  Something Girls               Adam Ant  1982  233.40363\n",
       "1  SOIAZJW12AB01853F1       Pink World       Planet P Project  1984  269.81832\n",
       "2  SOFSOCN12A8C143F5D   Face the Ashes                    Gob  2007  209.60608\n",
       "3  SOHKNRJ12A6701D1F8     Drop of Rain  Tweeterfriendly Music     0  189.57016\n",
       "4  SOQHXMF12AB0182363  Young Boy Blues           JennyAnyKind     0  218.77506"
      ]
     },
     "execution_count": 42,
     "metadata": {},
     "output_type": "execute_result"
    }
   ],
   "source": [
    "songs_artists = pd.merge(df, df2, how='left',\\\n",
    "                  left_on=['artist_id'],\\\n",
    "                  right_on = ['artist_id'])\n",
    "                              \n",
    "songs_artists = songs_artists[['song_id','title','artist_name','year','duration']]\n",
    "songs_artists.head(5)"
   ]
  },
  {
   "cell_type": "code",
   "execution_count": 43,
   "metadata": {
    "scrolled": false
   },
   "outputs": [
    {
     "name": "stdout",
     "output_type": "stream",
     "text": [
      "title           object\n",
      "artist_name     object\n",
      "duration       float64\n",
      "dtype: object\n",
      "song       object\n",
      "artist     object\n",
      "length    float64\n",
      "dtype: object\n"
     ]
    }
   ],
   "source": [
    "songs_artists[['title','artist_name']] = songs_artists[['title','artist_name']].astype(str)\n",
    "log_df[['song','artist']] = log_df[['song','artist']].astype(str)\n",
    "songs_artists['duration'] = songs_artists['duration'].apply(pd.to_numeric)\n",
    "log_df['length'] = log_df['length'].apply(pd.to_numeric)\n",
    "\n",
    "print (songs_artists[['title','artist_name','duration']].dtypes)\n",
    "print (log_df[['song','artist','length']].dtypes)"
   ]
  },
  {
   "cell_type": "code",
   "execution_count": 44,
   "metadata": {
    "scrolled": false
   },
   "outputs": [
    {
     "data": {
      "text/plain": [
       "7915     I Will Not Reap Destruction\n",
       "378                              #40\n",
       "3398                 'Round Midnight\n",
       "7660                'Till I Collapse\n",
       "6715                'Till I Collapse\n",
       "                    ...             \n",
       "2565                         shimmer\n",
       "4406    the king of wishful thinking\n",
       "1443    the king of wishful thinking\n",
       "5823                      ÃÂ Noite\n",
       "7613     ÃÂ Aqui Que Se Passa Tudo\n",
       "Name: song, Length: 8056, dtype: object"
      ]
     },
     "execution_count": 44,
     "metadata": {},
     "output_type": "execute_result"
    }
   ],
   "source": [
    "log_df.song.sort_values()"
   ]
  },
  {
   "cell_type": "code",
   "execution_count": 45,
   "metadata": {
    "scrolled": true
   },
   "outputs": [
    {
     "data": {
      "text/plain": [
       "72                   A Higher Place (Album Version)\n",
       "51    A Whiter Shade Of Pale (Live @ Fillmore West)\n",
       "8                                   Amor De Cabaret\n",
       "32                                   Auguri Cha Cha\n",
       "40                                  Baby Come To Me\n",
       "                          ...                      \n",
       "21                                  Twist and Shout\n",
       "47                             Wessex Loses a Bride\n",
       "63                    Wild Rose (Back 2 Basics Mix)\n",
       "4                                   Young Boy Blues\n",
       "24                                ¿Dónde va Chichi?\n",
       "Name: title, Length: 75, dtype: object"
      ]
     },
     "execution_count": 45,
     "metadata": {},
     "output_type": "execute_result"
    }
   ],
   "source": [
    "songs_artists.title.sort_values()"
   ]
  },
  {
   "cell_type": "code",
   "execution_count": 46,
   "metadata": {
    "scrolled": true
   },
   "outputs": [
    {
     "data": {
      "text/html": [
       "<div>\n",
       "<style scoped>\n",
       "    .dataframe tbody tr th:only-of-type {\n",
       "        vertical-align: middle;\n",
       "    }\n",
       "\n",
       "    .dataframe tbody tr th {\n",
       "        vertical-align: top;\n",
       "    }\n",
       "\n",
       "    .dataframe thead th {\n",
       "        text-align: right;\n",
       "    }\n",
       "</style>\n",
       "<table border=\"1\" class=\"dataframe\">\n",
       "  <thead>\n",
       "    <tr style=\"text-align: right;\">\n",
       "      <th></th>\n",
       "      <th>artist</th>\n",
       "      <th>auth</th>\n",
       "      <th>firstName</th>\n",
       "      <th>gender</th>\n",
       "      <th>itemInSession</th>\n",
       "      <th>lastName</th>\n",
       "      <th>length</th>\n",
       "      <th>level</th>\n",
       "      <th>location</th>\n",
       "      <th>method</th>\n",
       "      <th>...</th>\n",
       "      <th>song</th>\n",
       "      <th>status</th>\n",
       "      <th>ts</th>\n",
       "      <th>userAgent</th>\n",
       "      <th>userId</th>\n",
       "      <th>song_id</th>\n",
       "      <th>title</th>\n",
       "      <th>artist_name</th>\n",
       "      <th>year</th>\n",
       "      <th>duration</th>\n",
       "    </tr>\n",
       "  </thead>\n",
       "  <tbody>\n",
       "    <tr>\n",
       "      <th>0</th>\n",
       "      <td>Anabelle Simpson</td>\n",
       "      <td>Logged In</td>\n",
       "      <td>Anabelle</td>\n",
       "      <td>F</td>\n",
       "      <td>0</td>\n",
       "      <td>Simpson</td>\n",
       "      <td>134.47791</td>\n",
       "      <td>free</td>\n",
       "      <td>Philadelphia-Camden-Wilmington, PA-NJ-DE-MD</td>\n",
       "      <td>PUT</td>\n",
       "      <td>...</td>\n",
       "      <td>Fuck Kitty</td>\n",
       "      <td>200</td>\n",
       "      <td>1541903636796</td>\n",
       "      <td>\"Mozilla/5.0 (Macintosh; Intel Mac OS X 10_9_4...</td>\n",
       "      <td>69</td>\n",
       "      <td>NaN</td>\n",
       "      <td>NaN</td>\n",
       "      <td>NaN</td>\n",
       "      <td>NaN</td>\n",
       "      <td>NaN</td>\n",
       "    </tr>\n",
       "    <tr>\n",
       "      <th>1</th>\n",
       "      <td>Anabelle Simpson</td>\n",
       "      <td>Logged In</td>\n",
       "      <td>Anabelle</td>\n",
       "      <td>F</td>\n",
       "      <td>1</td>\n",
       "      <td>Simpson</td>\n",
       "      <td>264.75057</td>\n",
       "      <td>free</td>\n",
       "      <td>Philadelphia-Camden-Wilmington, PA-NJ-DE-MD</td>\n",
       "      <td>PUT</td>\n",
       "      <td>...</td>\n",
       "      <td>By The Time This Night Is Over</td>\n",
       "      <td>200</td>\n",
       "      <td>1541903770796</td>\n",
       "      <td>\"Mozilla/5.0 (Macintosh; Intel Mac OS X 10_9_4...</td>\n",
       "      <td>69</td>\n",
       "      <td>NaN</td>\n",
       "      <td>NaN</td>\n",
       "      <td>NaN</td>\n",
       "      <td>NaN</td>\n",
       "      <td>NaN</td>\n",
       "    </tr>\n",
       "    <tr>\n",
       "      <th>2</th>\n",
       "      <td>Anabelle Simpson</td>\n",
       "      <td>Logged In</td>\n",
       "      <td>Anabelle</td>\n",
       "      <td>F</td>\n",
       "      <td>2</td>\n",
       "      <td>Simpson</td>\n",
       "      <td>189.83138</td>\n",
       "      <td>free</td>\n",
       "      <td>Philadelphia-Camden-Wilmington, PA-NJ-DE-MD</td>\n",
       "      <td>PUT</td>\n",
       "      <td>...</td>\n",
       "      <td>God &amp; Satan</td>\n",
       "      <td>200</td>\n",
       "      <td>1541904034796</td>\n",
       "      <td>\"Mozilla/5.0 (Macintosh; Intel Mac OS X 10_9_4...</td>\n",
       "      <td>69</td>\n",
       "      <td>NaN</td>\n",
       "      <td>NaN</td>\n",
       "      <td>NaN</td>\n",
       "      <td>NaN</td>\n",
       "      <td>NaN</td>\n",
       "    </tr>\n",
       "    <tr>\n",
       "      <th>3</th>\n",
       "      <td>Lily Burns</td>\n",
       "      <td>Logged In</td>\n",
       "      <td>Lily</td>\n",
       "      <td>F</td>\n",
       "      <td>0</td>\n",
       "      <td>Burns</td>\n",
       "      <td>NaN</td>\n",
       "      <td>free</td>\n",
       "      <td>New York-Newark-Jersey City, NY-NJ-PA</td>\n",
       "      <td>GET</td>\n",
       "      <td>...</td>\n",
       "      <td>nan</td>\n",
       "      <td>200</td>\n",
       "      <td>1541910841796</td>\n",
       "      <td>\"Mozilla/5.0 (Windows NT 6.1; WOW64) AppleWebK...</td>\n",
       "      <td>32</td>\n",
       "      <td>NaN</td>\n",
       "      <td>NaN</td>\n",
       "      <td>NaN</td>\n",
       "      <td>NaN</td>\n",
       "      <td>NaN</td>\n",
       "    </tr>\n",
       "    <tr>\n",
       "      <th>4</th>\n",
       "      <td>Lily Burns</td>\n",
       "      <td>Logged In</td>\n",
       "      <td>Lily</td>\n",
       "      <td>F</td>\n",
       "      <td>1</td>\n",
       "      <td>Burns</td>\n",
       "      <td>212.06159</td>\n",
       "      <td>free</td>\n",
       "      <td>New York-Newark-Jersey City, NY-NJ-PA</td>\n",
       "      <td>PUT</td>\n",
       "      <td>...</td>\n",
       "      <td>Beautiful</td>\n",
       "      <td>200</td>\n",
       "      <td>1541910973796</td>\n",
       "      <td>\"Mozilla/5.0 (Windows NT 6.1; WOW64) AppleWebK...</td>\n",
       "      <td>32</td>\n",
       "      <td>NaN</td>\n",
       "      <td>NaN</td>\n",
       "      <td>NaN</td>\n",
       "      <td>NaN</td>\n",
       "      <td>NaN</td>\n",
       "    </tr>\n",
       "  </tbody>\n",
       "</table>\n",
       "<p>5 rows × 23 columns</p>\n",
       "</div>"
      ],
      "text/plain": [
       "             artist       auth firstName gender  itemInSession lastName  \\\n",
       "0  Anabelle Simpson  Logged In  Anabelle      F              0  Simpson   \n",
       "1  Anabelle Simpson  Logged In  Anabelle      F              1  Simpson   \n",
       "2  Anabelle Simpson  Logged In  Anabelle      F              2  Simpson   \n",
       "3        Lily Burns  Logged In      Lily      F              0    Burns   \n",
       "4        Lily Burns  Logged In      Lily      F              1    Burns   \n",
       "\n",
       "      length level                                     location method  ...  \\\n",
       "0  134.47791  free  Philadelphia-Camden-Wilmington, PA-NJ-DE-MD    PUT  ...   \n",
       "1  264.75057  free  Philadelphia-Camden-Wilmington, PA-NJ-DE-MD    PUT  ...   \n",
       "2  189.83138  free  Philadelphia-Camden-Wilmington, PA-NJ-DE-MD    PUT  ...   \n",
       "3        NaN  free        New York-Newark-Jersey City, NY-NJ-PA    GET  ...   \n",
       "4  212.06159  free        New York-Newark-Jersey City, NY-NJ-PA    PUT  ...   \n",
       "\n",
       "                             song  status             ts  \\\n",
       "0                      Fuck Kitty     200  1541903636796   \n",
       "1  By The Time This Night Is Over     200  1541903770796   \n",
       "2                     God & Satan     200  1541904034796   \n",
       "3                             nan     200  1541910841796   \n",
       "4                       Beautiful     200  1541910973796   \n",
       "\n",
       "                                           userAgent  userId  song_id title  \\\n",
       "0  \"Mozilla/5.0 (Macintosh; Intel Mac OS X 10_9_4...      69      NaN   NaN   \n",
       "1  \"Mozilla/5.0 (Macintosh; Intel Mac OS X 10_9_4...      69      NaN   NaN   \n",
       "2  \"Mozilla/5.0 (Macintosh; Intel Mac OS X 10_9_4...      69      NaN   NaN   \n",
       "3  \"Mozilla/5.0 (Windows NT 6.1; WOW64) AppleWebK...      32      NaN   NaN   \n",
       "4  \"Mozilla/5.0 (Windows NT 6.1; WOW64) AppleWebK...      32      NaN   NaN   \n",
       "\n",
       "  artist_name year duration  \n",
       "0         NaN  NaN      NaN  \n",
       "1         NaN  NaN      NaN  \n",
       "2         NaN  NaN      NaN  \n",
       "3         NaN  NaN      NaN  \n",
       "4         NaN  NaN      NaN  \n",
       "\n",
       "[5 rows x 23 columns]"
      ]
     },
     "execution_count": 46,
     "metadata": {},
     "output_type": "execute_result"
    }
   ],
   "source": [
    "new_df = pd.merge(log_df, songs_artists, how='left',\\\n",
    "                  left_on=['song','artist','length'],\\\n",
    "                  right_on = ['title','artist_name','duration'])\n",
    "\n",
    "new_df.sort_values('song_id', ascending=False).head()"
   ]
  },
  {
   "cell_type": "markdown",
   "metadata": {},
   "source": [
    "# No matching records btw songs/artists and log_df? \n",
    "# UPD. Will be fixed in etl.py. Proceeding with suggested solution."
   ]
  },
  {
   "cell_type": "code",
   "execution_count": 47,
   "metadata": {},
   "outputs": [
    {
     "data": {
      "text/html": [
       "<div>\n",
       "<style scoped>\n",
       "    .dataframe tbody tr th:only-of-type {\n",
       "        vertical-align: middle;\n",
       "    }\n",
       "\n",
       "    .dataframe tbody tr th {\n",
       "        vertical-align: top;\n",
       "    }\n",
       "\n",
       "    .dataframe thead th {\n",
       "        text-align: right;\n",
       "    }\n",
       "</style>\n",
       "<table border=\"1\" class=\"dataframe\">\n",
       "  <thead>\n",
       "    <tr style=\"text-align: right;\">\n",
       "      <th></th>\n",
       "      <th>artist</th>\n",
       "      <th>auth</th>\n",
       "      <th>firstName</th>\n",
       "      <th>gender</th>\n",
       "      <th>itemInSession</th>\n",
       "      <th>lastName</th>\n",
       "      <th>length</th>\n",
       "      <th>level</th>\n",
       "      <th>location</th>\n",
       "      <th>method</th>\n",
       "      <th>page</th>\n",
       "      <th>registration</th>\n",
       "      <th>sessionId</th>\n",
       "      <th>song</th>\n",
       "      <th>status</th>\n",
       "      <th>ts</th>\n",
       "      <th>userAgent</th>\n",
       "      <th>userId</th>\n",
       "    </tr>\n",
       "  </thead>\n",
       "  <tbody>\n",
       "    <tr>\n",
       "      <th>0</th>\n",
       "      <td>Frumpies</td>\n",
       "      <td>Logged In</td>\n",
       "      <td>Anabelle</td>\n",
       "      <td>F</td>\n",
       "      <td>0</td>\n",
       "      <td>Simpson</td>\n",
       "      <td>134.47791</td>\n",
       "      <td>free</td>\n",
       "      <td>Philadelphia-Camden-Wilmington, PA-NJ-DE-MD</td>\n",
       "      <td>PUT</td>\n",
       "      <td>NextSong</td>\n",
       "      <td>1.541044e+12</td>\n",
       "      <td>455</td>\n",
       "      <td>Fuck Kitty</td>\n",
       "      <td>200</td>\n",
       "      <td>1541903636796</td>\n",
       "      <td>\"Mozilla/5.0 (Macintosh; Intel Mac OS X 10_9_4...</td>\n",
       "      <td>69</td>\n",
       "    </tr>\n",
       "    <tr>\n",
       "      <th>1</th>\n",
       "      <td>Kenny G with Peabo Bryson</td>\n",
       "      <td>Logged In</td>\n",
       "      <td>Anabelle</td>\n",
       "      <td>F</td>\n",
       "      <td>1</td>\n",
       "      <td>Simpson</td>\n",
       "      <td>264.75057</td>\n",
       "      <td>free</td>\n",
       "      <td>Philadelphia-Camden-Wilmington, PA-NJ-DE-MD</td>\n",
       "      <td>PUT</td>\n",
       "      <td>NextSong</td>\n",
       "      <td>1.541044e+12</td>\n",
       "      <td>455</td>\n",
       "      <td>By The Time This Night Is Over</td>\n",
       "      <td>200</td>\n",
       "      <td>1541903770796</td>\n",
       "      <td>\"Mozilla/5.0 (Macintosh; Intel Mac OS X 10_9_4...</td>\n",
       "      <td>69</td>\n",
       "    </tr>\n",
       "    <tr>\n",
       "      <th>2</th>\n",
       "      <td>Biffy Clyro</td>\n",
       "      <td>Logged In</td>\n",
       "      <td>Anabelle</td>\n",
       "      <td>F</td>\n",
       "      <td>2</td>\n",
       "      <td>Simpson</td>\n",
       "      <td>189.83138</td>\n",
       "      <td>free</td>\n",
       "      <td>Philadelphia-Camden-Wilmington, PA-NJ-DE-MD</td>\n",
       "      <td>PUT</td>\n",
       "      <td>NextSong</td>\n",
       "      <td>1.541044e+12</td>\n",
       "      <td>455</td>\n",
       "      <td>God &amp; Satan</td>\n",
       "      <td>200</td>\n",
       "      <td>1541904034796</td>\n",
       "      <td>\"Mozilla/5.0 (Macintosh; Intel Mac OS X 10_9_4...</td>\n",
       "      <td>69</td>\n",
       "    </tr>\n",
       "    <tr>\n",
       "      <th>3</th>\n",
       "      <td>None</td>\n",
       "      <td>Logged In</td>\n",
       "      <td>Lily</td>\n",
       "      <td>F</td>\n",
       "      <td>0</td>\n",
       "      <td>Burns</td>\n",
       "      <td>NaN</td>\n",
       "      <td>free</td>\n",
       "      <td>New York-Newark-Jersey City, NY-NJ-PA</td>\n",
       "      <td>GET</td>\n",
       "      <td>Home</td>\n",
       "      <td>1.540621e+12</td>\n",
       "      <td>456</td>\n",
       "      <td>None</td>\n",
       "      <td>200</td>\n",
       "      <td>1541910841796</td>\n",
       "      <td>\"Mozilla/5.0 (Windows NT 6.1; WOW64) AppleWebK...</td>\n",
       "      <td>32</td>\n",
       "    </tr>\n",
       "    <tr>\n",
       "      <th>4</th>\n",
       "      <td>HIM</td>\n",
       "      <td>Logged In</td>\n",
       "      <td>Lily</td>\n",
       "      <td>F</td>\n",
       "      <td>1</td>\n",
       "      <td>Burns</td>\n",
       "      <td>212.06159</td>\n",
       "      <td>free</td>\n",
       "      <td>New York-Newark-Jersey City, NY-NJ-PA</td>\n",
       "      <td>PUT</td>\n",
       "      <td>NextSong</td>\n",
       "      <td>1.540621e+12</td>\n",
       "      <td>456</td>\n",
       "      <td>Beautiful</td>\n",
       "      <td>200</td>\n",
       "      <td>1541910973796</td>\n",
       "      <td>\"Mozilla/5.0 (Windows NT 6.1; WOW64) AppleWebK...</td>\n",
       "      <td>32</td>\n",
       "    </tr>\n",
       "  </tbody>\n",
       "</table>\n",
       "</div>"
      ],
      "text/plain": [
       "                      artist       auth firstName gender  itemInSession  \\\n",
       "0                   Frumpies  Logged In  Anabelle      F              0   \n",
       "1  Kenny G with Peabo Bryson  Logged In  Anabelle      F              1   \n",
       "2                Biffy Clyro  Logged In  Anabelle      F              2   \n",
       "3                       None  Logged In      Lily      F              0   \n",
       "4                        HIM  Logged In      Lily      F              1   \n",
       "\n",
       "  lastName     length level                                     location  \\\n",
       "0  Simpson  134.47791  free  Philadelphia-Camden-Wilmington, PA-NJ-DE-MD   \n",
       "1  Simpson  264.75057  free  Philadelphia-Camden-Wilmington, PA-NJ-DE-MD   \n",
       "2  Simpson  189.83138  free  Philadelphia-Camden-Wilmington, PA-NJ-DE-MD   \n",
       "3    Burns        NaN  free        New York-Newark-Jersey City, NY-NJ-PA   \n",
       "4    Burns  212.06159  free        New York-Newark-Jersey City, NY-NJ-PA   \n",
       "\n",
       "  method      page  registration  sessionId                            song  \\\n",
       "0    PUT  NextSong  1.541044e+12        455                      Fuck Kitty   \n",
       "1    PUT  NextSong  1.541044e+12        455  By The Time This Night Is Over   \n",
       "2    PUT  NextSong  1.541044e+12        455                     God & Satan   \n",
       "3    GET      Home  1.540621e+12        456                            None   \n",
       "4    PUT  NextSong  1.540621e+12        456                       Beautiful   \n",
       "\n",
       "   status             ts                                          userAgent  \\\n",
       "0     200  1541903636796  \"Mozilla/5.0 (Macintosh; Intel Mac OS X 10_9_4...   \n",
       "1     200  1541903770796  \"Mozilla/5.0 (Macintosh; Intel Mac OS X 10_9_4...   \n",
       "2     200  1541904034796  \"Mozilla/5.0 (Macintosh; Intel Mac OS X 10_9_4...   \n",
       "3     200  1541910841796  \"Mozilla/5.0 (Windows NT 6.1; WOW64) AppleWebK...   \n",
       "4     200  1541910973796  \"Mozilla/5.0 (Windows NT 6.1; WOW64) AppleWebK...   \n",
       "\n",
       "  userId  \n",
       "0     69  \n",
       "1     69  \n",
       "2     69  \n",
       "3     32  \n",
       "4     32  "
      ]
     },
     "execution_count": 47,
     "metadata": {},
     "output_type": "execute_result"
    }
   ],
   "source": [
    "log_files = get_files('/Users/tatianatikhonova/tati/Udacity Data Engineering - Project1/data/log_data/')\n",
    "filepath = log_files[0]\n",
    "df = pd.read_json(filepath, lines=True)\n",
    "df.head()"
   ]
  },
  {
   "cell_type": "code",
   "execution_count": 48,
   "metadata": {},
   "outputs": [],
   "source": [
    "for index, row in df.iterrows():\n",
    "    # get songid and artistid from song and artist tables\n",
    "    cur.execute(song_select, (row.song, row.artist, row.length))\n",
    "    results = cur.fetchone()\n",
    "    \n",
    "    if results:\n",
    "        songid, artistid = results\n",
    "    else:\n",
    "        songid, artistid = None, None\n",
    "    # insert songplay record\n",
    "    #songplay_data = df[['ts', 'userId', 'level', 'song', 'artist', 'sessionId', 'location', 'userAgent']]\n",
    "    # insert songplay record\n",
    "    songplay_data = (\n",
    "        row.ts, \n",
    "        row.userId, \n",
    "        row.level, \n",
    "        songid, \n",
    "        artistid, \n",
    "        row.sessionId, \n",
    "        row.location, \n",
    "        row.userAgent\n",
    "    )\n",
    "    cur.execute(songplay_table_insert, songplay_data)\n",
    "    conn.commit()"
   ]
  },
  {
   "cell_type": "markdown",
   "metadata": {},
   "source": [
    "Run `test.ipynb` to see if you've successfully added records to this table."
   ]
  },
  {
   "cell_type": "markdown",
   "metadata": {},
   "source": [
    "# Close Connection to Sparkify Database"
   ]
  },
  {
   "cell_type": "code",
   "execution_count": 49,
   "metadata": {},
   "outputs": [],
   "source": [
    "conn.close()"
   ]
  },
  {
   "cell_type": "markdown",
   "metadata": {},
   "source": [
    "# Implement `etl.py`\n",
    "Use what you've completed in this notebook to implement `etl.py`."
   ]
  }
 ],
 "metadata": {
  "kernelspec": {
   "display_name": "Python 3",
   "language": "python",
   "name": "python3"
  },
  "language_info": {
   "codemirror_mode": {
    "name": "ipython",
    "version": 3
   },
   "file_extension": ".py",
   "mimetype": "text/x-python",
   "name": "python",
   "nbconvert_exporter": "python",
   "pygments_lexer": "ipython3",
   "version": "3.8.5"
  }
 },
 "nbformat": 4,
 "nbformat_minor": 2
}
